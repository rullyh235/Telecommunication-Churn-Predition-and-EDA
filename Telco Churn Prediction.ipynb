{
 "cells": [
  {
   "cell_type": "markdown",
   "id": "651f6140-af94-40f9-beef-d66d40d80ffd",
   "metadata": {
    "id": "vR9EXoMuk-Au"
   },
   "source": [
    "### **Telecom Churn Prediction**"
   ]
  },
  {
   "cell_type": "code",
   "execution_count": 1,
   "id": "0fbb7a95",
   "metadata": {},
   "outputs": [],
   "source": [
    "import pandas as pd\n",
    "import numpy as np\n",
    "import matplotlib.pyplot as plt\n",
    "import seaborn as sns\n",
    "import warnings\n",
    "warnings.filterwarnings('ignore')\n",
    "\n",
    "from sklearn.model_selection import train_test_split, GridSearchCV, StratifiedKFold, RandomizedSearchCV,  KFold\n",
    "from sklearn.pipeline import Pipeline\n",
    "from sklearn.impute import SimpleImputer, KNNImputer # digunakan untuk cek missing Value\n",
    "from sklearn.preprocessing import RobustScaler, PowerTransformer, PolynomialFeatures, OneHotEncoder\n",
    "from sklearn.compose import ColumnTransformer\n",
    "from sklearn.metrics import accuracy_score, recall_score, precision_score, f1_score # Evaluation Matrix\n",
    "from sklearn.metrics import classification_report, confusion_matrix, plot_confusion_matrix\n",
    "from sklearn.metrics import confusion_matrix, classification_report\n",
    "from sklearn.ensemble import RandomForestClassifier\n",
    "from sklearn.linear_model import LogisticRegression\n",
    "import category_encoders as ce\n",
    "from sklearn.ensemble import AdaBoostClassifier,  GradientBoostingClassifier\n",
    "from xgboost import XGBClassifier"
   ]
  },
  {
   "cell_type": "code",
   "execution_count": 2,
   "id": "66542b88",
   "metadata": {},
   "outputs": [
    {
     "data": {
      "text/html": [
       "<div>\n",
       "<style scoped>\n",
       "    .dataframe tbody tr th:only-of-type {\n",
       "        vertical-align: middle;\n",
       "    }\n",
       "\n",
       "    .dataframe tbody tr th {\n",
       "        vertical-align: top;\n",
       "    }\n",
       "\n",
       "    .dataframe thead th {\n",
       "        text-align: right;\n",
       "    }\n",
       "</style>\n",
       "<table border=\"1\" class=\"dataframe\">\n",
       "  <thead>\n",
       "    <tr style=\"text-align: right;\">\n",
       "      <th></th>\n",
       "      <th>customerID</th>\n",
       "      <th>gender</th>\n",
       "      <th>SeniorCitizen</th>\n",
       "      <th>Partner</th>\n",
       "      <th>Dependents</th>\n",
       "      <th>tenure</th>\n",
       "      <th>PhoneService</th>\n",
       "      <th>MultipleLines</th>\n",
       "      <th>InternetService</th>\n",
       "      <th>OnlineSecurity</th>\n",
       "      <th>...</th>\n",
       "      <th>DeviceProtection</th>\n",
       "      <th>TechSupport</th>\n",
       "      <th>StreamingTV</th>\n",
       "      <th>StreamingMovies</th>\n",
       "      <th>Contract</th>\n",
       "      <th>PaperlessBilling</th>\n",
       "      <th>PaymentMethod</th>\n",
       "      <th>MonthlyCharges</th>\n",
       "      <th>TotalCharges</th>\n",
       "      <th>Churn</th>\n",
       "    </tr>\n",
       "  </thead>\n",
       "  <tbody>\n",
       "    <tr>\n",
       "      <th>0</th>\n",
       "      <td>7590-VHVEG</td>\n",
       "      <td>Female</td>\n",
       "      <td>0</td>\n",
       "      <td>Yes</td>\n",
       "      <td>No</td>\n",
       "      <td>1</td>\n",
       "      <td>No</td>\n",
       "      <td>No phone service</td>\n",
       "      <td>DSL</td>\n",
       "      <td>No</td>\n",
       "      <td>...</td>\n",
       "      <td>No</td>\n",
       "      <td>No</td>\n",
       "      <td>No</td>\n",
       "      <td>No</td>\n",
       "      <td>Month-to-month</td>\n",
       "      <td>Yes</td>\n",
       "      <td>Electronic check</td>\n",
       "      <td>29.85</td>\n",
       "      <td>29.85</td>\n",
       "      <td>No</td>\n",
       "    </tr>\n",
       "    <tr>\n",
       "      <th>1</th>\n",
       "      <td>5575-GNVDE</td>\n",
       "      <td>Male</td>\n",
       "      <td>0</td>\n",
       "      <td>No</td>\n",
       "      <td>No</td>\n",
       "      <td>34</td>\n",
       "      <td>Yes</td>\n",
       "      <td>No</td>\n",
       "      <td>DSL</td>\n",
       "      <td>Yes</td>\n",
       "      <td>...</td>\n",
       "      <td>Yes</td>\n",
       "      <td>No</td>\n",
       "      <td>No</td>\n",
       "      <td>No</td>\n",
       "      <td>One year</td>\n",
       "      <td>No</td>\n",
       "      <td>Mailed check</td>\n",
       "      <td>56.95</td>\n",
       "      <td>1889.5</td>\n",
       "      <td>No</td>\n",
       "    </tr>\n",
       "    <tr>\n",
       "      <th>2</th>\n",
       "      <td>3668-QPYBK</td>\n",
       "      <td>Male</td>\n",
       "      <td>0</td>\n",
       "      <td>No</td>\n",
       "      <td>No</td>\n",
       "      <td>2</td>\n",
       "      <td>Yes</td>\n",
       "      <td>No</td>\n",
       "      <td>DSL</td>\n",
       "      <td>Yes</td>\n",
       "      <td>...</td>\n",
       "      <td>No</td>\n",
       "      <td>No</td>\n",
       "      <td>No</td>\n",
       "      <td>No</td>\n",
       "      <td>Month-to-month</td>\n",
       "      <td>Yes</td>\n",
       "      <td>Mailed check</td>\n",
       "      <td>53.85</td>\n",
       "      <td>108.15</td>\n",
       "      <td>Yes</td>\n",
       "    </tr>\n",
       "    <tr>\n",
       "      <th>3</th>\n",
       "      <td>7795-CFOCW</td>\n",
       "      <td>Male</td>\n",
       "      <td>0</td>\n",
       "      <td>No</td>\n",
       "      <td>No</td>\n",
       "      <td>45</td>\n",
       "      <td>No</td>\n",
       "      <td>No phone service</td>\n",
       "      <td>DSL</td>\n",
       "      <td>Yes</td>\n",
       "      <td>...</td>\n",
       "      <td>Yes</td>\n",
       "      <td>Yes</td>\n",
       "      <td>No</td>\n",
       "      <td>No</td>\n",
       "      <td>One year</td>\n",
       "      <td>No</td>\n",
       "      <td>Bank transfer (automatic)</td>\n",
       "      <td>42.30</td>\n",
       "      <td>1840.75</td>\n",
       "      <td>No</td>\n",
       "    </tr>\n",
       "    <tr>\n",
       "      <th>4</th>\n",
       "      <td>9237-HQITU</td>\n",
       "      <td>Female</td>\n",
       "      <td>0</td>\n",
       "      <td>No</td>\n",
       "      <td>No</td>\n",
       "      <td>2</td>\n",
       "      <td>Yes</td>\n",
       "      <td>No</td>\n",
       "      <td>Fiber optic</td>\n",
       "      <td>No</td>\n",
       "      <td>...</td>\n",
       "      <td>No</td>\n",
       "      <td>No</td>\n",
       "      <td>No</td>\n",
       "      <td>No</td>\n",
       "      <td>Month-to-month</td>\n",
       "      <td>Yes</td>\n",
       "      <td>Electronic check</td>\n",
       "      <td>70.70</td>\n",
       "      <td>151.65</td>\n",
       "      <td>Yes</td>\n",
       "    </tr>\n",
       "    <tr>\n",
       "      <th>...</th>\n",
       "      <td>...</td>\n",
       "      <td>...</td>\n",
       "      <td>...</td>\n",
       "      <td>...</td>\n",
       "      <td>...</td>\n",
       "      <td>...</td>\n",
       "      <td>...</td>\n",
       "      <td>...</td>\n",
       "      <td>...</td>\n",
       "      <td>...</td>\n",
       "      <td>...</td>\n",
       "      <td>...</td>\n",
       "      <td>...</td>\n",
       "      <td>...</td>\n",
       "      <td>...</td>\n",
       "      <td>...</td>\n",
       "      <td>...</td>\n",
       "      <td>...</td>\n",
       "      <td>...</td>\n",
       "      <td>...</td>\n",
       "      <td>...</td>\n",
       "    </tr>\n",
       "    <tr>\n",
       "      <th>7038</th>\n",
       "      <td>6840-RESVB</td>\n",
       "      <td>Male</td>\n",
       "      <td>0</td>\n",
       "      <td>Yes</td>\n",
       "      <td>Yes</td>\n",
       "      <td>24</td>\n",
       "      <td>Yes</td>\n",
       "      <td>Yes</td>\n",
       "      <td>DSL</td>\n",
       "      <td>Yes</td>\n",
       "      <td>...</td>\n",
       "      <td>Yes</td>\n",
       "      <td>Yes</td>\n",
       "      <td>Yes</td>\n",
       "      <td>Yes</td>\n",
       "      <td>One year</td>\n",
       "      <td>Yes</td>\n",
       "      <td>Mailed check</td>\n",
       "      <td>84.80</td>\n",
       "      <td>1990.5</td>\n",
       "      <td>No</td>\n",
       "    </tr>\n",
       "    <tr>\n",
       "      <th>7039</th>\n",
       "      <td>2234-XADUH</td>\n",
       "      <td>Female</td>\n",
       "      <td>0</td>\n",
       "      <td>Yes</td>\n",
       "      <td>Yes</td>\n",
       "      <td>72</td>\n",
       "      <td>Yes</td>\n",
       "      <td>Yes</td>\n",
       "      <td>Fiber optic</td>\n",
       "      <td>No</td>\n",
       "      <td>...</td>\n",
       "      <td>Yes</td>\n",
       "      <td>No</td>\n",
       "      <td>Yes</td>\n",
       "      <td>Yes</td>\n",
       "      <td>One year</td>\n",
       "      <td>Yes</td>\n",
       "      <td>Credit card (automatic)</td>\n",
       "      <td>103.20</td>\n",
       "      <td>7362.9</td>\n",
       "      <td>No</td>\n",
       "    </tr>\n",
       "    <tr>\n",
       "      <th>7040</th>\n",
       "      <td>4801-JZAZL</td>\n",
       "      <td>Female</td>\n",
       "      <td>0</td>\n",
       "      <td>Yes</td>\n",
       "      <td>Yes</td>\n",
       "      <td>11</td>\n",
       "      <td>No</td>\n",
       "      <td>No phone service</td>\n",
       "      <td>DSL</td>\n",
       "      <td>Yes</td>\n",
       "      <td>...</td>\n",
       "      <td>No</td>\n",
       "      <td>No</td>\n",
       "      <td>No</td>\n",
       "      <td>No</td>\n",
       "      <td>Month-to-month</td>\n",
       "      <td>Yes</td>\n",
       "      <td>Electronic check</td>\n",
       "      <td>29.60</td>\n",
       "      <td>346.45</td>\n",
       "      <td>No</td>\n",
       "    </tr>\n",
       "    <tr>\n",
       "      <th>7041</th>\n",
       "      <td>8361-LTMKD</td>\n",
       "      <td>Male</td>\n",
       "      <td>1</td>\n",
       "      <td>Yes</td>\n",
       "      <td>No</td>\n",
       "      <td>4</td>\n",
       "      <td>Yes</td>\n",
       "      <td>Yes</td>\n",
       "      <td>Fiber optic</td>\n",
       "      <td>No</td>\n",
       "      <td>...</td>\n",
       "      <td>No</td>\n",
       "      <td>No</td>\n",
       "      <td>No</td>\n",
       "      <td>No</td>\n",
       "      <td>Month-to-month</td>\n",
       "      <td>Yes</td>\n",
       "      <td>Mailed check</td>\n",
       "      <td>74.40</td>\n",
       "      <td>306.6</td>\n",
       "      <td>Yes</td>\n",
       "    </tr>\n",
       "    <tr>\n",
       "      <th>7042</th>\n",
       "      <td>3186-AJIEK</td>\n",
       "      <td>Male</td>\n",
       "      <td>0</td>\n",
       "      <td>No</td>\n",
       "      <td>No</td>\n",
       "      <td>66</td>\n",
       "      <td>Yes</td>\n",
       "      <td>No</td>\n",
       "      <td>Fiber optic</td>\n",
       "      <td>Yes</td>\n",
       "      <td>...</td>\n",
       "      <td>Yes</td>\n",
       "      <td>Yes</td>\n",
       "      <td>Yes</td>\n",
       "      <td>Yes</td>\n",
       "      <td>Two year</td>\n",
       "      <td>Yes</td>\n",
       "      <td>Bank transfer (automatic)</td>\n",
       "      <td>105.65</td>\n",
       "      <td>6844.5</td>\n",
       "      <td>No</td>\n",
       "    </tr>\n",
       "  </tbody>\n",
       "</table>\n",
       "<p>7043 rows × 21 columns</p>\n",
       "</div>"
      ],
      "text/plain": [
       "      customerID  gender  SeniorCitizen Partner Dependents  tenure  \\\n",
       "0     7590-VHVEG  Female              0     Yes         No       1   \n",
       "1     5575-GNVDE    Male              0      No         No      34   \n",
       "2     3668-QPYBK    Male              0      No         No       2   \n",
       "3     7795-CFOCW    Male              0      No         No      45   \n",
       "4     9237-HQITU  Female              0      No         No       2   \n",
       "...          ...     ...            ...     ...        ...     ...   \n",
       "7038  6840-RESVB    Male              0     Yes        Yes      24   \n",
       "7039  2234-XADUH  Female              0     Yes        Yes      72   \n",
       "7040  4801-JZAZL  Female              0     Yes        Yes      11   \n",
       "7041  8361-LTMKD    Male              1     Yes         No       4   \n",
       "7042  3186-AJIEK    Male              0      No         No      66   \n",
       "\n",
       "     PhoneService     MultipleLines InternetService OnlineSecurity  ...  \\\n",
       "0              No  No phone service             DSL             No  ...   \n",
       "1             Yes                No             DSL            Yes  ...   \n",
       "2             Yes                No             DSL            Yes  ...   \n",
       "3              No  No phone service             DSL            Yes  ...   \n",
       "4             Yes                No     Fiber optic             No  ...   \n",
       "...           ...               ...             ...            ...  ...   \n",
       "7038          Yes               Yes             DSL            Yes  ...   \n",
       "7039          Yes               Yes     Fiber optic             No  ...   \n",
       "7040           No  No phone service             DSL            Yes  ...   \n",
       "7041          Yes               Yes     Fiber optic             No  ...   \n",
       "7042          Yes                No     Fiber optic            Yes  ...   \n",
       "\n",
       "     DeviceProtection TechSupport StreamingTV StreamingMovies        Contract  \\\n",
       "0                  No          No          No              No  Month-to-month   \n",
       "1                 Yes          No          No              No        One year   \n",
       "2                  No          No          No              No  Month-to-month   \n",
       "3                 Yes         Yes          No              No        One year   \n",
       "4                  No          No          No              No  Month-to-month   \n",
       "...               ...         ...         ...             ...             ...   \n",
       "7038              Yes         Yes         Yes             Yes        One year   \n",
       "7039              Yes          No         Yes             Yes        One year   \n",
       "7040               No          No          No              No  Month-to-month   \n",
       "7041               No          No          No              No  Month-to-month   \n",
       "7042              Yes         Yes         Yes             Yes        Two year   \n",
       "\n",
       "     PaperlessBilling              PaymentMethod MonthlyCharges  TotalCharges  \\\n",
       "0                 Yes           Electronic check          29.85         29.85   \n",
       "1                  No               Mailed check          56.95        1889.5   \n",
       "2                 Yes               Mailed check          53.85        108.15   \n",
       "3                  No  Bank transfer (automatic)          42.30       1840.75   \n",
       "4                 Yes           Electronic check          70.70        151.65   \n",
       "...               ...                        ...            ...           ...   \n",
       "7038              Yes               Mailed check          84.80        1990.5   \n",
       "7039              Yes    Credit card (automatic)         103.20        7362.9   \n",
       "7040              Yes           Electronic check          29.60        346.45   \n",
       "7041              Yes               Mailed check          74.40         306.6   \n",
       "7042              Yes  Bank transfer (automatic)         105.65        6844.5   \n",
       "\n",
       "     Churn  \n",
       "0       No  \n",
       "1       No  \n",
       "2      Yes  \n",
       "3       No  \n",
       "4      Yes  \n",
       "...    ...  \n",
       "7038    No  \n",
       "7039    No  \n",
       "7040    No  \n",
       "7041   Yes  \n",
       "7042    No  \n",
       "\n",
       "[7043 rows x 21 columns]"
      ]
     },
     "execution_count": 2,
     "metadata": {},
     "output_type": "execute_result"
    }
   ],
   "source": [
    "df = pd.read_csv('Telco Customer Churn.csv')\n",
    "df"
   ]
  },
  {
   "cell_type": "code",
   "execution_count": 3,
   "id": "e2431024-a34f-445f-920b-ae449b7d9ebf",
   "metadata": {},
   "outputs": [
    {
     "data": {
      "text/plain": [
       "Index(['customerID', 'gender', 'SeniorCitizen', 'Partner', 'Dependents',\n",
       "       'tenure', 'PhoneService', 'MultipleLines', 'InternetService',\n",
       "       'OnlineSecurity', 'OnlineBackup', 'DeviceProtection', 'TechSupport',\n",
       "       'StreamingTV', 'StreamingMovies', 'Contract', 'PaperlessBilling',\n",
       "       'PaymentMethod', 'MonthlyCharges', 'TotalCharges', 'Churn'],\n",
       "      dtype='object')"
      ]
     },
     "execution_count": 3,
     "metadata": {},
     "output_type": "execute_result"
    }
   ],
   "source": [
    "df.columns"
   ]
  },
  {
   "cell_type": "code",
   "execution_count": 4,
   "id": "d2395b89-7eb4-4d6d-8411-bd5bfeec01d9",
   "metadata": {},
   "outputs": [
    {
     "data": {
      "text/html": [
       "<div>\n",
       "<style scoped>\n",
       "    .dataframe tbody tr th:only-of-type {\n",
       "        vertical-align: middle;\n",
       "    }\n",
       "\n",
       "    .dataframe tbody tr th {\n",
       "        vertical-align: top;\n",
       "    }\n",
       "\n",
       "    .dataframe thead th {\n",
       "        text-align: right;\n",
       "    }\n",
       "</style>\n",
       "<table border=\"1\" class=\"dataframe\">\n",
       "  <thead>\n",
       "    <tr style=\"text-align: right;\">\n",
       "      <th></th>\n",
       "      <th>Data Features</th>\n",
       "      <th>Data Types</th>\n",
       "      <th>Null</th>\n",
       "      <th>Null Percentage</th>\n",
       "      <th>Unique</th>\n",
       "      <th>Unique Sample</th>\n",
       "    </tr>\n",
       "  </thead>\n",
       "  <tbody>\n",
       "    <tr>\n",
       "      <th>0</th>\n",
       "      <td>customerID</td>\n",
       "      <td>object</td>\n",
       "      <td>0</td>\n",
       "      <td>0.0</td>\n",
       "      <td>7043</td>\n",
       "      <td>[4536-PLEQY, 3791-LGQCY]</td>\n",
       "    </tr>\n",
       "    <tr>\n",
       "      <th>1</th>\n",
       "      <td>gender</td>\n",
       "      <td>object</td>\n",
       "      <td>0</td>\n",
       "      <td>0.0</td>\n",
       "      <td>2</td>\n",
       "      <td>[Male, Female]</td>\n",
       "    </tr>\n",
       "    <tr>\n",
       "      <th>2</th>\n",
       "      <td>SeniorCitizen</td>\n",
       "      <td>int64</td>\n",
       "      <td>0</td>\n",
       "      <td>0.0</td>\n",
       "      <td>2</td>\n",
       "      <td>[0, 1]</td>\n",
       "    </tr>\n",
       "    <tr>\n",
       "      <th>3</th>\n",
       "      <td>Partner</td>\n",
       "      <td>object</td>\n",
       "      <td>0</td>\n",
       "      <td>0.0</td>\n",
       "      <td>2</td>\n",
       "      <td>[Yes, No]</td>\n",
       "    </tr>\n",
       "    <tr>\n",
       "      <th>4</th>\n",
       "      <td>Dependents</td>\n",
       "      <td>object</td>\n",
       "      <td>0</td>\n",
       "      <td>0.0</td>\n",
       "      <td>2</td>\n",
       "      <td>[No, Yes]</td>\n",
       "    </tr>\n",
       "    <tr>\n",
       "      <th>5</th>\n",
       "      <td>tenure</td>\n",
       "      <td>int64</td>\n",
       "      <td>0</td>\n",
       "      <td>0.0</td>\n",
       "      <td>73</td>\n",
       "      <td>[46, 2]</td>\n",
       "    </tr>\n",
       "    <tr>\n",
       "      <th>6</th>\n",
       "      <td>PhoneService</td>\n",
       "      <td>object</td>\n",
       "      <td>0</td>\n",
       "      <td>0.0</td>\n",
       "      <td>2</td>\n",
       "      <td>[Yes, No]</td>\n",
       "    </tr>\n",
       "    <tr>\n",
       "      <th>7</th>\n",
       "      <td>MultipleLines</td>\n",
       "      <td>object</td>\n",
       "      <td>0</td>\n",
       "      <td>0.0</td>\n",
       "      <td>3</td>\n",
       "      <td>[No, Yes]</td>\n",
       "    </tr>\n",
       "    <tr>\n",
       "      <th>8</th>\n",
       "      <td>InternetService</td>\n",
       "      <td>object</td>\n",
       "      <td>0</td>\n",
       "      <td>0.0</td>\n",
       "      <td>3</td>\n",
       "      <td>[No, Fiber optic]</td>\n",
       "    </tr>\n",
       "    <tr>\n",
       "      <th>9</th>\n",
       "      <td>OnlineSecurity</td>\n",
       "      <td>object</td>\n",
       "      <td>0</td>\n",
       "      <td>0.0</td>\n",
       "      <td>3</td>\n",
       "      <td>[No internet service, No]</td>\n",
       "    </tr>\n",
       "    <tr>\n",
       "      <th>10</th>\n",
       "      <td>OnlineBackup</td>\n",
       "      <td>object</td>\n",
       "      <td>0</td>\n",
       "      <td>0.0</td>\n",
       "      <td>3</td>\n",
       "      <td>[Yes, No]</td>\n",
       "    </tr>\n",
       "    <tr>\n",
       "      <th>11</th>\n",
       "      <td>DeviceProtection</td>\n",
       "      <td>object</td>\n",
       "      <td>0</td>\n",
       "      <td>0.0</td>\n",
       "      <td>3</td>\n",
       "      <td>[No internet service, No]</td>\n",
       "    </tr>\n",
       "    <tr>\n",
       "      <th>12</th>\n",
       "      <td>TechSupport</td>\n",
       "      <td>object</td>\n",
       "      <td>0</td>\n",
       "      <td>0.0</td>\n",
       "      <td>3</td>\n",
       "      <td>[No, Yes]</td>\n",
       "    </tr>\n",
       "    <tr>\n",
       "      <th>13</th>\n",
       "      <td>StreamingTV</td>\n",
       "      <td>object</td>\n",
       "      <td>0</td>\n",
       "      <td>0.0</td>\n",
       "      <td>3</td>\n",
       "      <td>[No internet service, Yes]</td>\n",
       "    </tr>\n",
       "    <tr>\n",
       "      <th>14</th>\n",
       "      <td>StreamingMovies</td>\n",
       "      <td>object</td>\n",
       "      <td>0</td>\n",
       "      <td>0.0</td>\n",
       "      <td>3</td>\n",
       "      <td>[No internet service, Yes]</td>\n",
       "    </tr>\n",
       "    <tr>\n",
       "      <th>15</th>\n",
       "      <td>Contract</td>\n",
       "      <td>object</td>\n",
       "      <td>0</td>\n",
       "      <td>0.0</td>\n",
       "      <td>3</td>\n",
       "      <td>[Two year, One year]</td>\n",
       "    </tr>\n",
       "    <tr>\n",
       "      <th>16</th>\n",
       "      <td>PaperlessBilling</td>\n",
       "      <td>object</td>\n",
       "      <td>0</td>\n",
       "      <td>0.0</td>\n",
       "      <td>2</td>\n",
       "      <td>[Yes, No]</td>\n",
       "    </tr>\n",
       "    <tr>\n",
       "      <th>17</th>\n",
       "      <td>PaymentMethod</td>\n",
       "      <td>object</td>\n",
       "      <td>0</td>\n",
       "      <td>0.0</td>\n",
       "      <td>4</td>\n",
       "      <td>[Electronic check, Bank transfer (automatic)]</td>\n",
       "    </tr>\n",
       "    <tr>\n",
       "      <th>18</th>\n",
       "      <td>MonthlyCharges</td>\n",
       "      <td>float64</td>\n",
       "      <td>0</td>\n",
       "      <td>0.0</td>\n",
       "      <td>1585</td>\n",
       "      <td>[74.6, 69.4]</td>\n",
       "    </tr>\n",
       "    <tr>\n",
       "      <th>19</th>\n",
       "      <td>TotalCharges</td>\n",
       "      <td>object</td>\n",
       "      <td>0</td>\n",
       "      <td>0.0</td>\n",
       "      <td>6531</td>\n",
       "      <td>[4317.35, 1005.7]</td>\n",
       "    </tr>\n",
       "    <tr>\n",
       "      <th>20</th>\n",
       "      <td>Churn</td>\n",
       "      <td>object</td>\n",
       "      <td>0</td>\n",
       "      <td>0.0</td>\n",
       "      <td>2</td>\n",
       "      <td>[Yes, No]</td>\n",
       "    </tr>\n",
       "  </tbody>\n",
       "</table>\n",
       "</div>"
      ],
      "text/plain": [
       "       Data Features Data Types  Null  Null Percentage  Unique  \\\n",
       "0         customerID     object     0              0.0    7043   \n",
       "1             gender     object     0              0.0       2   \n",
       "2      SeniorCitizen      int64     0              0.0       2   \n",
       "3            Partner     object     0              0.0       2   \n",
       "4         Dependents     object     0              0.0       2   \n",
       "5             tenure      int64     0              0.0      73   \n",
       "6       PhoneService     object     0              0.0       2   \n",
       "7      MultipleLines     object     0              0.0       3   \n",
       "8    InternetService     object     0              0.0       3   \n",
       "9     OnlineSecurity     object     0              0.0       3   \n",
       "10      OnlineBackup     object     0              0.0       3   \n",
       "11  DeviceProtection     object     0              0.0       3   \n",
       "12       TechSupport     object     0              0.0       3   \n",
       "13       StreamingTV     object     0              0.0       3   \n",
       "14   StreamingMovies     object     0              0.0       3   \n",
       "15          Contract     object     0              0.0       3   \n",
       "16  PaperlessBilling     object     0              0.0       2   \n",
       "17     PaymentMethod     object     0              0.0       4   \n",
       "18    MonthlyCharges    float64     0              0.0    1585   \n",
       "19      TotalCharges     object     0              0.0    6531   \n",
       "20             Churn     object     0              0.0       2   \n",
       "\n",
       "                                    Unique Sample  \n",
       "0                        [4536-PLEQY, 3791-LGQCY]  \n",
       "1                                  [Male, Female]  \n",
       "2                                          [0, 1]  \n",
       "3                                       [Yes, No]  \n",
       "4                                       [No, Yes]  \n",
       "5                                         [46, 2]  \n",
       "6                                       [Yes, No]  \n",
       "7                                       [No, Yes]  \n",
       "8                               [No, Fiber optic]  \n",
       "9                       [No internet service, No]  \n",
       "10                                      [Yes, No]  \n",
       "11                      [No internet service, No]  \n",
       "12                                      [No, Yes]  \n",
       "13                     [No internet service, Yes]  \n",
       "14                     [No internet service, Yes]  \n",
       "15                           [Two year, One year]  \n",
       "16                                      [Yes, No]  \n",
       "17  [Electronic check, Bank transfer (automatic)]  \n",
       "18                                   [74.6, 69.4]  \n",
       "19                              [4317.35, 1005.7]  \n",
       "20                                      [Yes, No]  "
      ]
     },
     "execution_count": 4,
     "metadata": {},
     "output_type": "execute_result"
    }
   ],
   "source": [
    "TelcoChurnDesc = []\n",
    "for i in df.columns:\n",
    "    TelcoChurnDesc.append([\n",
    "        i,\n",
    "        df[i].dtypes,\n",
    "        df[i].isna().sum(),\n",
    "        round(((df[i].isna().sum() / len(df)) * 100), 2),\n",
    "        df[i].nunique(),\n",
    "        df[i].drop_duplicates().sample(2).values\n",
    "    ])\n",
    "\n",
    "pd.DataFrame(TelcoChurnDesc, columns=[\n",
    "    \"Data Features\",\n",
    "    \"Data Types\",\n",
    "    \"Null\",\n",
    "    \"Null Percentage\",\n",
    "    \"Unique\",\n",
    "    \"Unique Sample\"\n",
    "])"
   ]
  },
  {
   "cell_type": "code",
   "execution_count": 5,
   "id": "9596256c-058f-4e77-a217-ce6b0dec6edd",
   "metadata": {},
   "outputs": [
    {
     "data": {
      "text/plain": [
       "No     5174\n",
       "Yes    1869\n",
       "Name: Churn, dtype: int64"
      ]
     },
     "execution_count": 5,
     "metadata": {},
     "output_type": "execute_result"
    }
   ],
   "source": [
    "df.Churn.value_counts()"
   ]
  },
  {
   "cell_type": "code",
   "execution_count": 6,
   "id": "a9d77c51-f064-4c94-9ebf-76c2fa0353bf",
   "metadata": {},
   "outputs": [
    {
     "data": {
      "text/html": [
       "<div>\n",
       "<style scoped>\n",
       "    .dataframe tbody tr th:only-of-type {\n",
       "        vertical-align: middle;\n",
       "    }\n",
       "\n",
       "    .dataframe tbody tr th {\n",
       "        vertical-align: top;\n",
       "    }\n",
       "\n",
       "    .dataframe thead th {\n",
       "        text-align: right;\n",
       "    }\n",
       "</style>\n",
       "<table border=\"1\" class=\"dataframe\">\n",
       "  <thead>\n",
       "    <tr style=\"text-align: right;\">\n",
       "      <th>col_0</th>\n",
       "      <th>Persentase Churn</th>\n",
       "    </tr>\n",
       "    <tr>\n",
       "      <th>Churn</th>\n",
       "      <th></th>\n",
       "    </tr>\n",
       "  </thead>\n",
       "  <tbody>\n",
       "    <tr>\n",
       "      <th>No</th>\n",
       "      <td>73.463013</td>\n",
       "    </tr>\n",
       "    <tr>\n",
       "      <th>Yes</th>\n",
       "      <td>26.536987</td>\n",
       "    </tr>\n",
       "  </tbody>\n",
       "</table>\n",
       "</div>"
      ],
      "text/plain": [
       "col_0  Persentase Churn\n",
       "Churn                  \n",
       "No            73.463013\n",
       "Yes           26.536987"
      ]
     },
     "execution_count": 6,
     "metadata": {},
     "output_type": "execute_result"
    }
   ],
   "source": [
    "pd.crosstab(df['Churn'],columns='Persentase Churn',normalize=True)*100 # Balance because the ratio is below 80%"
   ]
  },
  {
   "cell_type": "code",
   "execution_count": 7,
   "id": "51874181-73d9-4dfa-b787-632c9a34c02a",
   "metadata": {},
   "outputs": [
    {
     "data": {
      "image/png": "[encoded data removed]",
      "text/plain": [
       "<Figure size 360x360 with 1 Axes>"
      ]
     },
     "metadata": {
      "needs_background": "light"
     },
     "output_type": "display_data"
    }
   ],
   "source": [
    "plt.figure(figsize=(5,5))\n",
    "ax = sns.countplot(x=df['Churn'], palette ='Blues', linewidth = 1)\n",
    "plt.show()"
   ]
  },
  {
   "cell_type": "code",
   "execution_count": 8,
   "id": "0cc51595-77f7-43a3-a47a-ef6bf1f999ee",
   "metadata": {},
   "outputs": [
    {
     "data": {
      "image/png": "[encoded data removed]",
      "text/plain": [
       "<Figure size 504x504 with 1 Axes>"
      ]
     },
     "metadata": {},
     "output_type": "display_data"
    }
   ],
   "source": [
    "plt.figure(figsize=(7,7))\n",
    "plt.title(\"Number of Targets(Churn) in the dataset\", size=18, weight='bold')\n",
    "plt.pie(df['Churn'].value_counts(), explode=(0,0.05), labels=['No', 'Yes'], colors=[\"orange\",\"blue\"], autopct='%1.1f%%', shadow=True, \n",
    "        startangle=90, textprops={\"fontsize\":20})\n",
    "\n",
    "plt.show()"
   ]
  },
  {
   "cell_type": "code",
   "execution_count": 9,
   "id": "59ca3010-5dc4-448e-b939-e53d5fd1eca8",
   "metadata": {},
   "outputs": [
    {
     "data": {
      "text/plain": [
       "customerID          0\n",
       "gender              0\n",
       "SeniorCitizen       0\n",
       "Partner             0\n",
       "Dependents          0\n",
       "tenure              0\n",
       "PhoneService        0\n",
       "MultipleLines       0\n",
       "InternetService     0\n",
       "OnlineSecurity      0\n",
       "OnlineBackup        0\n",
       "DeviceProtection    0\n",
       "TechSupport         0\n",
       "StreamingTV         0\n",
       "StreamingMovies     0\n",
       "Contract            0\n",
       "PaperlessBilling    0\n",
       "PaymentMethod       0\n",
       "MonthlyCharges      0\n",
       "TotalCharges        0\n",
       "Churn               0\n",
       "dtype: int64"
      ]
     },
     "execution_count": 9,
     "metadata": {},
     "output_type": "execute_result"
    }
   ],
   "source": [
    "df.isna().sum()"
   ]
  },
  {
   "cell_type": "markdown",
   "id": "881d1415-3fd6-4d0a-b7ac-7b7640aff274",
   "metadata": {},
   "source": [
    "# Checking Missing Value"
   ]
  },
  {
   "cell_type": "code",
   "execution_count": 10,
   "id": "f59a7e50-abb0-41f3-93ae-35ec928f0c95",
   "metadata": {},
   "outputs": [
    {
     "data": {
      "image/png": "[encoded data removed]",
      "text/plain": [
       "<Figure size 1080x360 with 1 Axes>"
      ]
     },
     "metadata": {
      "needs_background": "light"
     },
     "output_type": "display_data"
    }
   ],
   "source": [
    "plt.figure(figsize = (15, 5))\n",
    "sns.heatmap(df.isna(), cmap = 'viridis',yticklabels = False, cbar= False)\n",
    "plt.show()"
   ]
  },
  {
   "cell_type": "code",
   "execution_count": 11,
   "id": "bbb48a56-1c92-4029-9cb5-d287468c10cd",
   "metadata": {},
   "outputs": [],
   "source": [
    "df=df[df['TotalCharges']!=' ']"
   ]
  },
  {
   "cell_type": "code",
   "execution_count": 12,
   "id": "b4edb825-e024-4320-98b3-1cfe6c32ca8a",
   "metadata": {},
   "outputs": [],
   "source": [
    "df['TotalCharges'] = pd.to_numeric(df['TotalCharges'],errors = 'ignore')"
   ]
  },
  {
   "cell_type": "code",
   "execution_count": 13,
   "id": "a769b227-2098-42c6-93d8-7accd096b161",
   "metadata": {},
   "outputs": [
    {
     "data": {
      "text/plain": [
       "0.1561834445548772"
      ]
     },
     "execution_count": 13,
     "metadata": {},
     "output_type": "execute_result"
    }
   ],
   "source": [
    "11/7043*100 # Di drop baris "
   ]
  },
  {
   "cell_type": "markdown",
   "id": "da66c674-85c9-4058-a9b8-b1ad6e65f7fe",
   "metadata": {},
   "source": [
    "# CEK OUTLIERS"
   ]
  },
  {
   "cell_type": "code",
   "execution_count": 14,
   "id": "41b1fa9d-8210-46af-838a-720b89e27a15",
   "metadata": {},
   "outputs": [],
   "source": [
    "def cek_outliers(tabel,col):\n",
    "    Q1 = tabel[col].describe()['25%']\n",
    "    Q3 = tabel[col].describe()['75%']\n",
    "    IQR = Q3-Q1\n",
    "    UF = Q3 + (1.5*IQR)\n",
    "    LF = Q1 - (1.5*IQR)\n",
    "    tabel_outliers = df[(df[col] < LF) | (df[col] > UF)]\n",
    "    if len(tabel_outliers) == 0:\n",
    "           return \"No Outliers\"\n",
    "    else:\n",
    "           return tabel_outliers"
   ]
  },
  {
   "cell_type": "code",
   "execution_count": 15,
   "id": "765c59d9-7573-46f3-8e46-714c086afbeb",
   "metadata": {},
   "outputs": [
    {
     "data": {
      "text/plain": [
       "'No Outliers'"
      ]
     },
     "execution_count": 15,
     "metadata": {},
     "output_type": "execute_result"
    }
   ],
   "source": [
    "cek_outliers(df,'MonthlyCharges')"
   ]
  },
  {
   "cell_type": "code",
   "execution_count": 16,
   "id": "153d9329-2cab-4d15-b37c-5764f59b8d53",
   "metadata": {},
   "outputs": [
    {
     "data": {
      "text/plain": [
       "'No Outliers'"
      ]
     },
     "execution_count": 16,
     "metadata": {},
     "output_type": "execute_result"
    }
   ],
   "source": [
    "cek_outliers(df,'tenure')"
   ]
  },
  {
   "cell_type": "code",
   "execution_count": 17,
   "id": "77e39165-c99c-4788-90a2-9d520651581b",
   "metadata": {},
   "outputs": [
    {
     "data": {
      "text/plain": [
       "'No Outliers'"
      ]
     },
     "execution_count": 17,
     "metadata": {},
     "output_type": "execute_result"
    }
   ],
   "source": [
    "cek_outliers(df,'TotalCharges')"
   ]
  },
  {
   "cell_type": "code",
   "execution_count": 18,
   "id": "f629e614-75dc-435d-a3ae-9b6533921a10",
   "metadata": {},
   "outputs": [
    {
     "data": {
      "image/png": "[encoded data removed]",
      "text/plain": [
       "<Figure size 1440x1440 with 3 Axes>"
      ]
     },
     "metadata": {
      "needs_background": "light"
     },
     "output_type": "display_data"
    }
   ],
   "source": [
    "count = 0\n",
    "fig = plt.figure(figsize=(20,20))\n",
    "\n",
    "for i in df.drop(columns=['customerID','gender','SeniorCitizen','Partner','Dependents','PhoneService','MultipleLines','InternetService','OnlineSecurity','OnlineBackup','DeviceProtection','TechSupport','StreamingTV','StreamingMovies','Contract','PaperlessBilling','PaymentMethod','Churn']).columns:\n",
    "    count +=1\n",
    "    ax= plt.subplot(4,2,count)\n",
    "    sns.boxplot(df[i])\n",
    "    fig.tight_layout()\n",
    "    plt.title(i,fontsize=20)\n",
    "\n",
    "plt.show()"
   ]
  },
  {
   "cell_type": "markdown",
   "id": "0ebea27a-2f2a-45d4-a223-075deea06388",
   "metadata": {},
   "source": [
    "# TARGET VALUES"
   ]
  },
  {
   "cell_type": "code",
   "execution_count": 19,
   "id": "09c49815-728f-4caa-ad3c-6964340b3649",
   "metadata": {},
   "outputs": [],
   "source": [
    "df['Churn'] = df['Churn'].map({'Yes': 1, 'No':0})"
   ]
  },
  {
   "cell_type": "code",
   "execution_count": 20,
   "id": "a1f9bbe2-e7dc-4a77-a1f5-9c8a37ba798c",
   "metadata": {},
   "outputs": [],
   "source": [
    "X = df.drop(columns=['Churn', 'customerID'])\n",
    "y = df['Churn'] "
   ]
  },
  {
   "cell_type": "markdown",
   "id": "b0714240-d474-454c-9806-50690545d505",
   "metadata": {},
   "source": [
    "# Data Splitting and Train-Test Data"
   ]
  },
  {
   "cell_type": "code",
   "execution_count": 21,
   "id": "e2dc15f1-00e5-4b2b-8e0b-bd1bb1a5545a",
   "metadata": {},
   "outputs": [],
   "source": [
    "X_train, X_test, y_train, y_test = train_test_split(X,y, stratify = y, test_size = .20, random_state = 42) "
   ]
  },
  {
   "cell_type": "markdown",
   "id": "b79de3eb-4e5c-46bc-85e1-14dfffb462df",
   "metadata": {},
   "source": [
    "Splitting data is done to divide the amount of data that you want to train and test. In testing the data this time I divided 20% of the data for testing and 80% for training."
   ]
  },
  {
   "cell_type": "code",
   "execution_count": 22,
   "id": "5d80c35e-7336-4457-a8b2-db5286a890da",
   "metadata": {},
   "outputs": [
    {
     "name": "stdout",
     "output_type": "stream",
     "text": [
      "<class 'pandas.core.frame.DataFrame'>\n",
      "Int64Index: 5625 entries, 1413 to 1505\n",
      "Data columns (total 19 columns):\n",
      " #   Column            Non-Null Count  Dtype  \n",
      "---  ------            --------------  -----  \n",
      " 0   gender            5625 non-null   object \n",
      " 1   SeniorCitizen     5625 non-null   int64  \n",
      " 2   Partner           5625 non-null   object \n",
      " 3   Dependents        5625 non-null   object \n",
      " 4   tenure            5625 non-null   int64  \n",
      " 5   PhoneService      5625 non-null   object \n",
      " 6   MultipleLines     5625 non-null   object \n",
      " 7   InternetService   5625 non-null   object \n",
      " 8   OnlineSecurity    5625 non-null   object \n",
      " 9   OnlineBackup      5625 non-null   object \n",
      " 10  DeviceProtection  5625 non-null   object \n",
      " 11  TechSupport       5625 non-null   object \n",
      " 12  StreamingTV       5625 non-null   object \n",
      " 13  StreamingMovies   5625 non-null   object \n",
      " 14  Contract          5625 non-null   object \n",
      " 15  PaperlessBilling  5625 non-null   object \n",
      " 16  PaymentMethod     5625 non-null   object \n",
      " 17  MonthlyCharges    5625 non-null   float64\n",
      " 18  TotalCharges      5625 non-null   float64\n",
      "dtypes: float64(2), int64(2), object(15)\n",
      "memory usage: 878.9+ KB\n"
     ]
    }
   ],
   "source": [
    "X_train.info()"
   ]
  },
  {
   "cell_type": "markdown",
   "id": "0c020fca-08df-45ef-a779-dc4502e8a3d3",
   "metadata": {},
   "source": [
    "# PIPELINE\n",
    "\n",
    "Data is being processed through Pipeline, in order to simplify the process and avoid data leakage. \n",
    "\n",
    "First of all the data is grouped into numerical and categorical pipeline based on it's type of data as these two types of data will be treated differently. \n",
    "Numbers that goes through numerical pipeline where missing value will be filled with it's mean and all the numbers are scaled using robust scaler where it is scaled based on its quantile range. Categorical type of data's missing value will be filled with its mode / most frequent and they will be encoded using one hot encoder.\n",
    "\n",
    "Last, it will go to the algorithm pipeline. There are three algorithm that will be used: KNN, Random Forest, XGBoost, and Logistic Regression."
   ]
  },
  {
   "cell_type": "markdown",
   "id": "929db0b0-eb89-41ab-99c1-6e0dc6a3372b",
   "metadata": {},
   "source": [
    "# KNN"
   ]
  },
  {
   "cell_type": "markdown",
   "id": "be201528-21f3-4df9-8e92-74d3cf19fea1",
   "metadata": {},
   "source": [
    "KNN algorithm is one of the algorithm used in classification that are based on the attributes and samples from training data. KNN uses neighborhood classification as a prediction value from new instance. Classification instance that is done based on the majority from nearest neighbors category.\n",
    "\n",
    "Source : Fundamental Python For Machine Learning (Dasar-Dasar Pemrograman Python untuk Machine Learning dan Kecerdasan Buatan)"
   ]
  },
  {
   "cell_type": "code",
   "execution_count": 23,
   "id": "c299ada9-6c10-43aa-8c53-07563395cd77",
   "metadata": {},
   "outputs": [],
   "source": [
    "from sklearn.neighbors import KNeighborsClassifier"
   ]
  },
  {
   "cell_type": "code",
   "execution_count": 24,
   "id": "384376f5-7e0e-4fcf-a233-320d7463eadd",
   "metadata": {},
   "outputs": [],
   "source": [
    "num_columns = ['SeniorCitizen', 'tenure', 'MonthlyCharges','TotalCharges']\n",
    "cat_columns = ['gender', 'Partner', 'Dependents', 'PhoneService', 'MultipleLines', 'InternetService', 'OnlineSecurity',\n",
    "              'OnlineBackup', 'DeviceProtection', 'TechSupport', 'StreamingTV', 'Contract', 'PaperlessBilling', 'PaymentMethod']  \n",
    "\n",
    "numeric_pipeline = Pipeline([\n",
    "    ('imputer', SimpleImputer(strategy='mean')),\n",
    "    ('scaler', RobustScaler()) \n",
    "])\n",
    "\n",
    "\n",
    "categoric_pipeline = Pipeline([\n",
    "    ('imputer', SimpleImputer(strategy='most_frequent')), \n",
    "    ('encoder', OneHotEncoder(drop='first', handle_unknown = 'ignore')) \n",
    "])\n",
    "\n",
    "\n",
    "preprocessor = ColumnTransformer([\n",
    "    ('numeric', numeric_pipeline, num_columns), \n",
    "    ('categoric', categoric_pipeline, cat_columns),\n",
    "])\n",
    "\n",
    "\n",
    "pipe_KNN = Pipeline([ \n",
    "    ('prep', preprocessor), \n",
    "    ('algo', KNeighborsClassifier()) \n",
    "])"
   ]
  },
  {
   "cell_type": "markdown",
   "id": "15233c91-4832-4e11-8e30-2d27f0576c27",
   "metadata": {},
   "source": [
    "# Predict Training (KNN)"
   ]
  },
  {
   "cell_type": "code",
   "execution_count": 25,
   "id": "6c866f13-bf52-47f6-8e43-79541ce0a42a",
   "metadata": {},
   "outputs": [],
   "source": [
    "knn_train = pipe_KNN.fit(X_train, y_train) "
   ]
  },
  {
   "cell_type": "code",
   "execution_count": 26,
   "id": "59dff839-8a1a-4dda-a174-6531dfbc7053",
   "metadata": {},
   "outputs": [],
   "source": [
    "z = knn_train.predict(X_train)"
   ]
  },
  {
   "cell_type": "code",
   "execution_count": 27,
   "id": "8ec2fc3e-49a3-444b-86d9-88d351a88e7c",
   "metadata": {},
   "outputs": [
    {
     "name": "stdout",
     "output_type": "stream",
     "text": [
      "              precision    recall  f1-score   support\n",
      "\n",
      "           0       0.88      0.91      0.89      4130\n",
      "           1       0.72      0.65      0.69      1495\n",
      "\n",
      "    accuracy                           0.84      5625\n",
      "   macro avg       0.80      0.78      0.79      5625\n",
      "weighted avg       0.84      0.84      0.84      5625\n",
      "\n"
     ]
    }
   ],
   "source": [
    "print(classification_report(y_train, z))"
   ]
  },
  {
   "cell_type": "markdown",
   "id": "a1fbd485-68c6-49bc-b755-7f215b915d5e",
   "metadata": {},
   "source": [
    "# Predict Test (KNN)"
   ]
  },
  {
   "cell_type": "code",
   "execution_count": 28,
   "id": "bbdf4284-a20c-4fcc-a6da-867fda8e42de",
   "metadata": {},
   "outputs": [],
   "source": [
    "y_knn = pipe_KNN.predict(X_test)"
   ]
  },
  {
   "cell_type": "code",
   "execution_count": 29,
   "id": "6a458f4b-df44-4d9c-bdd5-6958f4660861",
   "metadata": {},
   "outputs": [
    {
     "name": "stdout",
     "output_type": "stream",
     "text": [
      "              precision    recall  f1-score   support\n",
      "\n",
      "           0       0.84      0.84      0.84      1033\n",
      "           1       0.55      0.55      0.55       374\n",
      "\n",
      "    accuracy                           0.76      1407\n",
      "   macro avg       0.70      0.70      0.70      1407\n",
      "weighted avg       0.76      0.76      0.76      1407\n",
      "\n"
     ]
    }
   ],
   "source": [
    "print(classification_report(y_test, y_knn))"
   ]
  },
  {
   "cell_type": "code",
   "execution_count": 30,
   "id": "cbf2d450-062a-4009-bf96-393ab58cc681",
   "metadata": {},
   "outputs": [
    {
     "data": {
      "text/plain": [
       "<sklearn.metrics._plot.confusion_matrix.ConfusionMatrixDisplay at 0x1c3f9575f10>"
      ]
     },
     "execution_count": 30,
     "metadata": {},
     "output_type": "execute_result"
    },
    {
     "data": {
      "image/png": "[encoded data removed]",
      "text/plain": [
       "<Figure size 432x288 with 2 Axes>"
      ]
     },
     "metadata": {
      "needs_background": "light"
     },
     "output_type": "display_data"
    }
   ],
   "source": [
    "plot_confusion_matrix(pipe_KNN, X_test, y_test, display_labels=['Not Churn', 'Churn'])"
   ]
  },
  {
   "cell_type": "markdown",
   "id": "7cd827dc-ed30-4f29-965e-44bdbfced907",
   "metadata": {},
   "source": [
    "Confusion Matrix : Confusion matrix are used to measure binary classification and multiclass classification. Binary classification only results in two output class (label), \"Yes\" and \"No\", or \"0\" and \"1\" for every data input given."
   ]
  },
  {
   "cell_type": "markdown",
   "id": "6c618efe-1556-4318-8dd9-4340ebabae42",
   "metadata": {},
   "source": [
    "# HYPER PARAMETER TUNING (KNN)"
   ]
  },
  {
   "cell_type": "markdown",
   "id": "a878ed5a-597c-4d93-b722-95315e9d04fc",
   "metadata": {},
   "source": [
    "Hyperparameter tuning is parameter value used to improve learning algorithm. Hyperparameter identify which tuple parameters will produce optimal model. To further improve our KNN model, Hyperparameter tuning will be performed. In this K-nearest neighbors we will use K = parameter which are the amount of neighbors that can be adjusted. \n",
    "\n",
    "Source : https://tentangdata.wordpress.com/2017/09/21/definisi-optimisasi-machine-learning/, https://codingstudio.id/hyperparameter-tuning/"
   ]
  },
  {
   "cell_type": "code",
   "execution_count": 31,
   "id": "d2bab0b8-cb43-498e-80c3-df4535639e8f",
   "metadata": {},
   "outputs": [],
   "source": [
    "param_KNN = {\n",
    "    'algo__n_neighbors' : np.arange(1, 1000, 10), \n",
    "    'algo__weights': ['uniform','distance'], \n",
    "    'algo__p' : [1,2]  \n",
    "}"
   ]
  },
  {
   "cell_type": "code",
   "execution_count": 32,
   "id": "3e8a02f5-e485-4c86-bda1-9848b393f4af",
   "metadata": {},
   "outputs": [
    {
     "data": {
      "text/plain": [
       "array([  1,  11,  21,  31,  41,  51,  61,  71,  81,  91, 101, 111, 121,\n",
       "       131, 141, 151, 161, 171, 181, 191, 201, 211, 221, 231, 241, 251,\n",
       "       261, 271, 281, 291, 301, 311, 321, 331, 341, 351, 361, 371, 381,\n",
       "       391, 401, 411, 421, 431, 441, 451, 461, 471, 481, 491, 501, 511,\n",
       "       521, 531, 541, 551, 561, 571, 581, 591, 601, 611, 621, 631, 641,\n",
       "       651, 661, 671, 681, 691, 701, 711, 721, 731, 741, 751, 761, 771,\n",
       "       781, 791, 801, 811, 821, 831, 841, 851, 861, 871, 881, 891, 901,\n",
       "       911, 921, 931, 941, 951, 961, 971, 981, 991])"
      ]
     },
     "execution_count": 32,
     "metadata": {},
     "output_type": "execute_result"
    }
   ],
   "source": [
    "np.arange(1, 1000, 10)"
   ]
  },
  {
   "cell_type": "code",
   "execution_count": 33,
   "id": "1ff67937-2869-4595-a739-c9c8bfa82f23",
   "metadata": {},
   "outputs": [],
   "source": [
    "skf = StratifiedKFold(n_splits=4) "
   ]
  },
  {
   "cell_type": "code",
   "execution_count": 34,
   "id": "a4606a93-65f2-4127-b7f9-38d4da8e2f15",
   "metadata": {},
   "outputs": [],
   "source": [
    "GSS_KNN = GridSearchCV(pipe_KNN, param_KNN, cv = skf, n_jobs=-1, verbose=1)"
   ]
  },
  {
   "cell_type": "code",
   "execution_count": 35,
   "id": "8c43eb6c-9d0d-4496-ab1f-f8877827752b",
   "metadata": {},
   "outputs": [
    {
     "name": "stdout",
     "output_type": "stream",
     "text": [
      "Fitting 4 folds for each of 400 candidates, totalling 1600 fits\n"
     ]
    },
    {
     "data": {
      "text/plain": [
       "GridSearchCV(cv=StratifiedKFold(n_splits=4, random_state=None, shuffle=False),\n",
       "             estimator=Pipeline(steps=[('prep',\n",
       "                                        ColumnTransformer(transformers=[('numeric',\n",
       "                                                                         Pipeline(steps=[('imputer',\n",
       "                                                                                          SimpleImputer()),\n",
       "                                                                                         ('scaler',\n",
       "                                                                                          RobustScaler())]),\n",
       "                                                                         ['SeniorCitizen',\n",
       "                                                                          'tenure',\n",
       "                                                                          'MonthlyCharges',\n",
       "                                                                          'TotalCharges']),\n",
       "                                                                        ('categoric',\n",
       "                                                                         Pipeline(steps=[('imputer',\n",
       "                                                                                          SimpleImputer(strategy='m...\n",
       "       261, 271, 281, 291, 301, 311, 321, 331, 341, 351, 361, 371, 381,\n",
       "       391, 401, 411, 421, 431, 441, 451, 461, 471, 481, 491, 501, 511,\n",
       "       521, 531, 541, 551, 561, 571, 581, 591, 601, 611, 621, 631, 641,\n",
       "       651, 661, 671, 681, 691, 701, 711, 721, 731, 741, 751, 761, 771,\n",
       "       781, 791, 801, 811, 821, 831, 841, 851, 861, 871, 881, 891, 901,\n",
       "       911, 921, 931, 941, 951, 961, 971, 981, 991]),\n",
       "                         'algo__p': [1, 2],\n",
       "                         'algo__weights': ['uniform', 'distance']},\n",
       "             verbose=1)"
      ]
     },
     "execution_count": 35,
     "metadata": {},
     "output_type": "execute_result"
    }
   ],
   "source": [
    "GSS_KNN.fit(X_train, y_train)"
   ]
  },
  {
   "cell_type": "code",
   "execution_count": 36,
   "id": "07a7e354-f754-4486-ba1f-78a4b5b1a7eb",
   "metadata": {},
   "outputs": [],
   "source": [
    "KNN_Tuned = GSS_KNN.best_estimator_"
   ]
  },
  {
   "cell_type": "code",
   "execution_count": 37,
   "id": "cde4571a-5270-4f15-87b4-8c5481af7097",
   "metadata": {},
   "outputs": [],
   "source": [
    "y_ts_KNN = KNN_Tuned.predict(X_test)"
   ]
  },
  {
   "cell_type": "markdown",
   "id": "75eb67f5-5d3b-4174-8767-73b1a9bda41d",
   "metadata": {},
   "source": [
    "### Classification Report KNN"
   ]
  },
  {
   "cell_type": "code",
   "execution_count": 38,
   "id": "71ecbf56-5fec-4035-90c4-ad5afdc8dbfe",
   "metadata": {},
   "outputs": [
    {
     "name": "stdout",
     "output_type": "stream",
     "text": [
      "              precision    recall  f1-score   support\n",
      "\n",
      "           0       0.86      0.86      0.86      1033\n",
      "           1       0.61      0.61      0.61       374\n",
      "\n",
      "    accuracy                           0.79      1407\n",
      "   macro avg       0.73      0.73      0.73      1407\n",
      "weighted avg       0.79      0.79      0.79      1407\n",
      "\n"
     ]
    }
   ],
   "source": [
    "print(classification_report(y_test, y_ts_KNN))"
   ]
  },
  {
   "cell_type": "code",
   "execution_count": 39,
   "id": "017fc4ec-2ef6-4d25-8bc4-c3347a80df16",
   "metadata": {},
   "outputs": [
    {
     "data": {
      "text/plain": [
       "<sklearn.metrics._plot.confusion_matrix.ConfusionMatrixDisplay at 0x1c3f9783eb0>"
      ]
     },
     "execution_count": 39,
     "metadata": {},
     "output_type": "execute_result"
    },
    {
     "data": {
      "image/png": "[encoded data removed]",
      "text/plain": [
       "<Figure size 432x288 with 2 Axes>"
      ]
     },
     "metadata": {
      "needs_background": "light"
     },
     "output_type": "display_data"
    }
   ],
   "source": [
    "plot_confusion_matrix(KNN_Tuned, X_test, y_test, display_labels=['Not Churn', 'Churn'])"
   ]
  },
  {
   "cell_type": "markdown",
   "id": "da005050-19bc-4da6-83be-87cc35a9a5ac",
   "metadata": {
    "tags": []
   },
   "source": [
    "# Random Forest"
   ]
  },
  {
   "cell_type": "markdown",
   "id": "232de777-18ba-4d73-9e79-67032e320a47",
   "metadata": {},
   "source": [
    "Random Forest is a classifier that contains a number of decision trees on various subsets of the given dataset and takes the average to improve the predictive accuracy of that dataset. Instead of relying on one decision tree, the random forest takes the prediction from each tree and based on the majority votes of predictions, and it predicts the final output. The greater number of trees in the forest leads to higher accuracy and prevents the problem of overfitting.\n",
    "\n",
    "Source : https://www.javatpoint.com/machine-learning-random-forest-algorithm"
   ]
  },
  {
   "cell_type": "code",
   "execution_count": 40,
   "id": "20a54619-4428-4b1e-8566-ea556eb0d66f",
   "metadata": {},
   "outputs": [],
   "source": [
    "num_columns = ['SeniorCitizen', 'tenure', 'MonthlyCharges','TotalCharges']\n",
    "cat_columns = ['gender', 'Partner', 'Dependents', 'PhoneService', 'MultipleLines', 'InternetService', 'OnlineSecurity',\n",
    "              'OnlineBackup', 'DeviceProtection', 'TechSupport', 'StreamingTV', 'Contract', 'PaperlessBilling', 'PaymentMethod']\n",
    " \n",
    "\n",
    "numeric_pipeline = Pipeline([\n",
    "    ('imputer', SimpleImputer(strategy='mean')),\n",
    "    ('scaler', RobustScaler())\n",
    "])\n",
    "\n",
    "\n",
    "categoric_pipeline = Pipeline([\n",
    "    ('imputer', SimpleImputer(strategy='most_frequent')),\n",
    "    ('encoder', OneHotEncoder(drop='first', handle_unknown = 'ignore'))\n",
    "])\n",
    "\n",
    "\n",
    "preprocessor = ColumnTransformer([\n",
    "    ('numeric', numeric_pipeline, num_columns),\n",
    "    ('categoric', categoric_pipeline, cat_columns),\n",
    "])\n",
    "\n",
    "\n",
    "pipe_RF = Pipeline([\n",
    "    ('prep', preprocessor),\n",
    "    ('algo', RandomForestClassifier())\n",
    "])"
   ]
  },
  {
   "cell_type": "code",
   "execution_count": 41,
   "id": "b8b4a04b-2a4b-4b58-af64-cdba954271b9",
   "metadata": {},
   "outputs": [
    {
     "data": {
      "text/plain": [
       "Pipeline(steps=[('prep',\n",
       "                 ColumnTransformer(transformers=[('numeric',\n",
       "                                                  Pipeline(steps=[('imputer',\n",
       "                                                                   SimpleImputer()),\n",
       "                                                                  ('scaler',\n",
       "                                                                   RobustScaler())]),\n",
       "                                                  ['SeniorCitizen', 'tenure',\n",
       "                                                   'MonthlyCharges',\n",
       "                                                   'TotalCharges']),\n",
       "                                                 ('categoric',\n",
       "                                                  Pipeline(steps=[('imputer',\n",
       "                                                                   SimpleImputer(strategy='most_frequent')),\n",
       "                                                                  ('encoder',\n",
       "                                                                   OneHotEncoder(drop='first',\n",
       "                                                                                 handle_unknown='ignore'))]),\n",
       "                                                  ['gender', 'Partner',\n",
       "                                                   'Dependents', 'PhoneService',\n",
       "                                                   'MultipleLines',\n",
       "                                                   'InternetService',\n",
       "                                                   'OnlineSecurity',\n",
       "                                                   'OnlineBackup',\n",
       "                                                   'DeviceProtection',\n",
       "                                                   'TechSupport', 'StreamingTV',\n",
       "                                                   'Contract',\n",
       "                                                   'PaperlessBilling',\n",
       "                                                   'PaymentMethod'])])),\n",
       "                ('algo', RandomForestClassifier())])"
      ]
     },
     "execution_count": 41,
     "metadata": {},
     "output_type": "execute_result"
    }
   ],
   "source": [
    "pipe_RF.fit(X_train, y_train)"
   ]
  },
  {
   "cell_type": "markdown",
   "id": "05636120-a5fc-417f-8a50-e58e1c6036b0",
   "metadata": {},
   "source": [
    "### Predict Training (Random Forest)"
   ]
  },
  {
   "cell_type": "code",
   "execution_count": 42,
   "id": "5af51300-61c0-44b6-a30d-83d38ed1cedc",
   "metadata": {},
   "outputs": [],
   "source": [
    "RF_train = pipe_KNN.fit(X_train, y_train) "
   ]
  },
  {
   "cell_type": "code",
   "execution_count": 43,
   "id": "e7a0c92e-4a72-4541-b810-9132746c796d",
   "metadata": {},
   "outputs": [],
   "source": [
    "z = RF_train.predict(X_train)"
   ]
  },
  {
   "cell_type": "code",
   "execution_count": 44,
   "id": "c1e5c7d8-c969-44c4-887d-c01f7f1501ae",
   "metadata": {},
   "outputs": [
    {
     "name": "stdout",
     "output_type": "stream",
     "text": [
      "              precision    recall  f1-score   support\n",
      "\n",
      "           0       0.88      0.91      0.89      4130\n",
      "           1       0.72      0.65      0.69      1495\n",
      "\n",
      "    accuracy                           0.84      5625\n",
      "   macro avg       0.80      0.78      0.79      5625\n",
      "weighted avg       0.84      0.84      0.84      5625\n",
      "\n"
     ]
    }
   ],
   "source": [
    "print(classification_report(y_train, z))"
   ]
  },
  {
   "cell_type": "markdown",
   "id": "6f612d15-8f31-4ee9-b0f2-bb5dede2d490",
   "metadata": {},
   "source": [
    "### Predict Test (Random Forest)"
   ]
  },
  {
   "cell_type": "code",
   "execution_count": 45,
   "id": "ecc3c027-0992-40ba-aa4a-6cf06632910b",
   "metadata": {},
   "outputs": [],
   "source": [
    "y_RF = pipe_RF.predict(X_test)"
   ]
  },
  {
   "cell_type": "code",
   "execution_count": 46,
   "id": "537a61c8-bafe-42bf-b53c-63c7d8e36a08",
   "metadata": {},
   "outputs": [
    {
     "name": "stdout",
     "output_type": "stream",
     "text": [
      "              precision    recall  f1-score   support\n",
      "\n",
      "           0       0.83      0.89      0.86      1033\n",
      "           1       0.62      0.50      0.55       374\n",
      "\n",
      "    accuracy                           0.79      1407\n",
      "   macro avg       0.73      0.69      0.71      1407\n",
      "weighted avg       0.77      0.79      0.78      1407\n",
      "\n"
     ]
    }
   ],
   "source": [
    "print(classification_report(y_test, y_RF))"
   ]
  },
  {
   "cell_type": "code",
   "execution_count": 47,
   "id": "af10b68f-09b4-4336-a072-86cac1cbb11f",
   "metadata": {},
   "outputs": [
    {
     "data": {
      "text/plain": [
       "<sklearn.metrics._plot.confusion_matrix.ConfusionMatrixDisplay at 0x1c3802ab880>"
      ]
     },
     "execution_count": 47,
     "metadata": {},
     "output_type": "execute_result"
    },
    {
     "data": {
      "image/png": "[encoded data removed]",
      "text/plain": [
       "<Figure size 432x288 with 2 Axes>"
      ]
     },
     "metadata": {
      "needs_background": "light"
     },
     "output_type": "display_data"
    }
   ],
   "source": [
    "plot_confusion_matrix(pipe_RF, X_test, y_test, display_labels=['Not Churn', 'Churn'])"
   ]
  },
  {
   "cell_type": "markdown",
   "id": "acce96dc-17c7-41eb-88cb-2aa2903a5c94",
   "metadata": {},
   "source": [
    "# Hyper Parameter Tuning (Random Forest)"
   ]
  },
  {
   "cell_type": "markdown",
   "id": "fd399be0-3e3c-4af3-8460-915e1d07c0c6",
   "metadata": {},
   "source": [
    "Hyperparameter tuning is the value for the parameters used to influence the learning process. Hyperparameter performs the identification process of tuple hyperparameters which produces an optimal model that minimizes the loss function that has been determined on the independent data provided. Hyper parameter tuning in Random Forest is used to determine the optimal data using the Random Forest model with the aim of minimizing the loss function.\n",
    "\n",
    "Source : https://tentangdata.wordpress.com/2017/09/21/definisi-optimisasi-machine-learning/, https://codingstudio.id/hyperparameter-tuning/"
   ]
  },
  {
   "cell_type": "code",
   "execution_count": 48,
   "id": "fa28ac4d-006c-46ab-993d-b8533bee8033",
   "metadata": {},
   "outputs": [
    {
     "data": {
      "text/plain": [
       "RandomForestClassifier()"
      ]
     },
     "execution_count": 48,
     "metadata": {},
     "output_type": "execute_result"
    }
   ],
   "source": [
    "RandomForestClassifier()"
   ]
  },
  {
   "cell_type": "code",
   "execution_count": 49,
   "id": "cdd0984d-67d2-4843-b5c1-f0064513398d",
   "metadata": {},
   "outputs": [],
   "source": [
    "param_RF = {\n",
    "    \"algo__n_estimators\" : np.arange(1, 1000, 10),\n",
    "    \"algo__max_depth\" : np.arange(5, 50, 5),\n",
    "    \"algo__min_samples_leaf\" : np.arange(1, 21, 2), \n",
    "}"
   ]
  },
  {
   "cell_type": "code",
   "execution_count": 50,
   "id": "98bfa8d6-576b-4949-94c1-bb71bec479d3",
   "metadata": {},
   "outputs": [],
   "source": [
    "GS_RF = GridSearchCV(pipe_RF, param_RF, cv = 3, n_jobs=-1, verbose = 3, )"
   ]
  },
  {
   "cell_type": "code",
   "execution_count": 51,
   "id": "1e062db1-1427-43d3-9542-c74538422f91",
   "metadata": {},
   "outputs": [
    {
     "name": "stdout",
     "output_type": "stream",
     "text": [
      "Fitting 3 folds for each of 9000 candidates, totalling 27000 fits\n"
     ]
    },
    {
     "data": {
      "text/plain": [
       "GridSearchCV(cv=3,\n",
       "             estimator=Pipeline(steps=[('prep',\n",
       "                                        ColumnTransformer(transformers=[('numeric',\n",
       "                                                                         Pipeline(steps=[('imputer',\n",
       "                                                                                          SimpleImputer()),\n",
       "                                                                                         ('scaler',\n",
       "                                                                                          RobustScaler())]),\n",
       "                                                                         ['SeniorCitizen',\n",
       "                                                                          'tenure',\n",
       "                                                                          'MonthlyCharges',\n",
       "                                                                          'TotalCharges']),\n",
       "                                                                        ('categoric',\n",
       "                                                                         Pipeline(steps=[('imputer',\n",
       "                                                                                          SimpleImputer(strategy='most_frequent')),\n",
       "                                                                                         ('encoder',\n",
       "                                                                                          OneHotEncoder(drop='first',\n",
       "                                                                                                        hand...\n",
       "       131, 141, 151, 161, 171, 181, 191, 201, 211, 221, 231, 241, 251,\n",
       "       261, 271, 281, 291, 301, 311, 321, 331, 341, 351, 361, 371, 381,\n",
       "       391, 401, 411, 421, 431, 441, 451, 461, 471, 481, 491, 501, 511,\n",
       "       521, 531, 541, 551, 561, 571, 581, 591, 601, 611, 621, 631, 641,\n",
       "       651, 661, 671, 681, 691, 701, 711, 721, 731, 741, 751, 761, 771,\n",
       "       781, 791, 801, 811, 821, 831, 841, 851, 861, 871, 881, 891, 901,\n",
       "       911, 921, 931, 941, 951, 961, 971, 981, 991])},\n",
       "             verbose=3)"
      ]
     },
     "execution_count": 51,
     "metadata": {},
     "output_type": "execute_result"
    }
   ],
   "source": [
    "GS_RF.fit(X_train, y_train)"
   ]
  },
  {
   "cell_type": "code",
   "execution_count": 52,
   "id": "d3a96035-902c-4e62-a94f-daa166172572",
   "metadata": {},
   "outputs": [],
   "source": [
    "RF_Tuned = GS_RF.best_estimator_"
   ]
  },
  {
   "cell_type": "code",
   "execution_count": 53,
   "id": "d333ea18-7817-4541-964b-de4adb61db7d",
   "metadata": {},
   "outputs": [],
   "source": [
    "y_RF_Tuned = RF_Tuned.predict(X_test)"
   ]
  },
  {
   "cell_type": "markdown",
   "id": "b7c5b7d9-44dc-4568-aa83-33c86b0f3b0d",
   "metadata": {},
   "source": [
    "### Classification Report Random Forest"
   ]
  },
  {
   "cell_type": "code",
   "execution_count": 54,
   "id": "8dce806b-ae74-41be-b7d8-ac88046a4291",
   "metadata": {},
   "outputs": [
    {
     "name": "stdout",
     "output_type": "stream",
     "text": [
      "              precision    recall  f1-score   support\n",
      "\n",
      "           0       0.83      0.90      0.86      1033\n",
      "           1       0.64      0.49      0.56       374\n",
      "\n",
      "    accuracy                           0.79      1407\n",
      "   macro avg       0.74      0.70      0.71      1407\n",
      "weighted avg       0.78      0.79      0.78      1407\n",
      "\n"
     ]
    }
   ],
   "source": [
    "print(classification_report(y_test, y_RF_Tuned))"
   ]
  },
  {
   "cell_type": "code",
   "execution_count": 55,
   "id": "4c100295-55e7-4a7c-861e-a09fb3070aad",
   "metadata": {},
   "outputs": [
    {
     "data": {
      "text/plain": [
       "<sklearn.metrics._plot.confusion_matrix.ConfusionMatrixDisplay at 0x1c382133190>"
      ]
     },
     "execution_count": 55,
     "metadata": {},
     "output_type": "execute_result"
    },
    {
     "data": {
      "image/png": "[encoded data removed]",
      "text/plain": [
       "<Figure size 432x288 with 2 Axes>"
      ]
     },
     "metadata": {
      "needs_background": "light"
     },
     "output_type": "display_data"
    }
   ],
   "source": [
    "plot_confusion_matrix(RF_Tuned, X_test, y_test, display_labels=['Not Churn', 'Churn'])"
   ]
  },
  {
   "cell_type": "markdown",
   "id": "743b9884-9b3d-44a7-92e4-467c292d5ac2",
   "metadata": {
    "tags": []
   },
   "source": [
    "# XGBOOST"
   ]
  },
  {
   "cell_type": "markdown",
   "id": "9873dbfb-41aa-4369-b8a4-bf3e602ef59d",
   "metadata": {},
   "source": [
    "XGBoost is an optimized distributed gradient boosting library designed to be highly efficient, flexible and portable. It implements machine learning algorithms under the Gradient Boosting framework. XGBoost provides a parallel tree boosting that solve many data science problems in a fast and accurate way. \n",
    "\n",
    "Source : https://xgboost.readthedocs.io/en/stable/"
   ]
  },
  {
   "cell_type": "code",
   "execution_count": 56,
   "id": "b6002054-206b-455f-9f9b-d2a966bd460a",
   "metadata": {},
   "outputs": [],
   "source": [
    "num_columns = ['SeniorCitizen', 'tenure', 'MonthlyCharges','TotalCharges']\n",
    "cat_columns = ['gender', 'Partner', 'Dependents', 'PhoneService', 'MultipleLines', 'InternetService', 'OnlineSecurity',\n",
    "              'OnlineBackup', 'DeviceProtection', 'TechSupport', 'StreamingTV', 'Contract', 'PaperlessBilling', 'PaymentMethod']\n",
    " \n",
    "\n",
    "numeric_pipeline = Pipeline([\n",
    "    ('imputer', SimpleImputer(strategy='mean')),\n",
    "    ('scaler', RobustScaler())\n",
    "])\n",
    "\n",
    "\n",
    "categoric_pipeline = Pipeline([\n",
    "    ('imputer', SimpleImputer(strategy='most_frequent')),\n",
    "    ('encoder', OneHotEncoder(drop='first', handle_unknown = 'ignore'))\n",
    "])\n",
    "\n",
    "\n",
    "preprocessor = ColumnTransformer([\n",
    "    ('numeric', numeric_pipeline, num_columns),\n",
    "    ('categoric', categoric_pipeline, cat_columns),\n",
    "])\n",
    "\n",
    "\n",
    "pipe_XGB = Pipeline([\n",
    "    ('prep', preprocessor),\n",
    "    ('algo', XGBClassifier())\n",
    "])"
   ]
  },
  {
   "cell_type": "code",
   "execution_count": 57,
   "id": "eb256ea4-2bed-4221-ba37-ac012d3081b9",
   "metadata": {},
   "outputs": [
    {
     "data": {
      "text/plain": [
       "Pipeline(steps=[('prep',\n",
       "                 ColumnTransformer(transformers=[('numeric',\n",
       "                                                  Pipeline(steps=[('imputer',\n",
       "                                                                   SimpleImputer()),\n",
       "                                                                  ('scaler',\n",
       "                                                                   RobustScaler())]),\n",
       "                                                  ['SeniorCitizen', 'tenure',\n",
       "                                                   'MonthlyCharges',\n",
       "                                                   'TotalCharges']),\n",
       "                                                 ('categoric',\n",
       "                                                  Pipeline(steps=[('imputer',\n",
       "                                                                   SimpleImputer(strategy='most_frequent')),\n",
       "                                                                  ('encoder',\n",
       "                                                                   OneHotEncoder(drop='first',\n",
       "                                                                                 handle_unknown='ignore'))]),\n",
       "                                                  ['ge...\n",
       "                               gamma=0, gpu_id=-1, grow_policy='depthwise',\n",
       "                               importance_type=None, interaction_constraints='',\n",
       "                               learning_rate=0.300000012, max_bin=256,\n",
       "                               max_cat_to_onehot=4, max_delta_step=0,\n",
       "                               max_depth=6, max_leaves=0, min_child_weight=1,\n",
       "                               missing=nan, monotone_constraints='()',\n",
       "                               n_estimators=100, n_jobs=0, num_parallel_tree=1,\n",
       "                               predictor='auto', random_state=0, reg_alpha=0,\n",
       "                               reg_lambda=1, ...))])"
      ]
     },
     "execution_count": 57,
     "metadata": {},
     "output_type": "execute_result"
    }
   ],
   "source": [
    "pipe_XGB.fit(X_train, y_train)"
   ]
  },
  {
   "cell_type": "markdown",
   "id": "22fb7ba5-feb6-4b37-a71c-5aff68a83434",
   "metadata": {},
   "source": [
    "### Predict Training (XGB)"
   ]
  },
  {
   "cell_type": "code",
   "execution_count": 58,
   "id": "ff030327-7e7f-4453-bdd5-acf4b569efa7",
   "metadata": {},
   "outputs": [],
   "source": [
    "XGB_train = pipe_XGB.fit(X_train, y_train) "
   ]
  },
  {
   "cell_type": "code",
   "execution_count": 59,
   "id": "f5ab6001-7549-47c2-9a69-0801b5f8bd02",
   "metadata": {},
   "outputs": [],
   "source": [
    "z = XGB_train.predict(X_train)"
   ]
  },
  {
   "cell_type": "code",
   "execution_count": 60,
   "id": "7f89d4b8-e23a-4b06-bb9d-cbed57d40e14",
   "metadata": {},
   "outputs": [
    {
     "name": "stdout",
     "output_type": "stream",
     "text": [
      "              precision    recall  f1-score   support\n",
      "\n",
      "           0       0.95      0.97      0.96      4130\n",
      "           1       0.91      0.85      0.88      1495\n",
      "\n",
      "    accuracy                           0.94      5625\n",
      "   macro avg       0.93      0.91      0.92      5625\n",
      "weighted avg       0.94      0.94      0.94      5625\n",
      "\n"
     ]
    }
   ],
   "source": [
    "print(classification_report(y_train, z))"
   ]
  },
  {
   "cell_type": "markdown",
   "id": "095c6fa0-bf98-4bbe-8adc-d4aed2d40c9c",
   "metadata": {},
   "source": [
    "### Predict Testing (XGB)"
   ]
  },
  {
   "cell_type": "code",
   "execution_count": 61,
   "id": "9b21f2d4-83bc-4270-ab27-456dd3ef4331",
   "metadata": {},
   "outputs": [],
   "source": [
    "y_XGB = pipe_XGB.predict(X_test)"
   ]
  },
  {
   "cell_type": "code",
   "execution_count": 62,
   "id": "c7f29ae8-49d3-4c10-8386-8984f14baaa0",
   "metadata": {},
   "outputs": [
    {
     "name": "stdout",
     "output_type": "stream",
     "text": [
      "              precision    recall  f1-score   support\n",
      "\n",
      "           0       0.84      0.84      0.84      1033\n",
      "           1       0.55      0.55      0.55       374\n",
      "\n",
      "    accuracy                           0.76      1407\n",
      "   macro avg       0.70      0.70      0.70      1407\n",
      "weighted avg       0.76      0.76      0.76      1407\n",
      "\n"
     ]
    }
   ],
   "source": [
    "print(classification_report(y_test, y_knn))"
   ]
  },
  {
   "cell_type": "code",
   "execution_count": 63,
   "id": "591d1091-1a41-49f6-854f-837e56ad4d92",
   "metadata": {},
   "outputs": [
    {
     "data": {
      "text/plain": [
       "<sklearn.metrics._plot.confusion_matrix.ConfusionMatrixDisplay at 0x1c3801e1190>"
      ]
     },
     "execution_count": 63,
     "metadata": {},
     "output_type": "execute_result"
    },
    {
     "data": {
      "image/png": "[encoded data removed]",
      "text/plain": [
       "<Figure size 432x288 with 2 Axes>"
      ]
     },
     "metadata": {
      "needs_background": "light"
     },
     "output_type": "display_data"
    }
   ],
   "source": [
    "plot_confusion_matrix(pipe_XGB, X_test, y_test, display_labels=['Not Churn', 'Churn'])"
   ]
  },
  {
   "cell_type": "markdown",
   "id": "7ceffbd2-871c-4122-8731-a7db5a708f88",
   "metadata": {},
   "source": [
    "# Hyper Parameter Tuning XGBOOST"
   ]
  },
  {
   "cell_type": "markdown",
   "id": "2b8ea7ff-2afc-4d73-b91d-7c4849ab10b0",
   "metadata": {},
   "source": [
    "Hyperparameter tuning is a way to optimize the model used by choosing the best parameter available. Hyperparameter identify tuple hyperparameter to obtain the most optimal model and minimize loss in the dataset. \n",
    "\n",
    "Source : https://tentangdata.wordpress.com/2017/09/21/definisi-optimisasi-machine-learning/, https://codingstudio.id/hyperparameter-tuning/"
   ]
  },
  {
   "cell_type": "code",
   "execution_count": 64,
   "id": "ca6d6d78-c279-4679-b9ac-88973a572b41",
   "metadata": {},
   "outputs": [],
   "source": [
    "param_XGB = {\n",
    "    \"algo__n_estimator\" : np.arange(100, 401,100),\n",
    "    \"algo__max_depth\" : np.arange(1,6),\n",
    "    \"algo__learning_rate\" : np.logspace(-3, 0, 4),\n",
    "    \"algo__gamma\" : np.logspace (-3, 2, 6),\n",
    "    \"algo__colsample_bytree\" : [0, 3, 0.5, 0.7, 0.8],\n",
    "    \"algo__subsample\" : [0, 3, 0.5, 0.7, 0.8],\n",
    "    \"algo__reg_alpha\" : np.logspace(-3,3,7),\n",
    "    \"algo__reg_lambda\" : np.logspace(-3,3,7)\n",
    "}"
   ]
  },
  {
   "cell_type": "code",
   "execution_count": 65,
   "id": "a4dcd24a-16b9-4cad-a560-f8ee2dc63ba6",
   "metadata": {},
   "outputs": [],
   "source": [
    "GS_XGB = RandomizedSearchCV(pipe_XGB, param_XGB, cv = skf, verbose = 3, n_jobs=-1)"
   ]
  },
  {
   "cell_type": "code",
   "execution_count": 66,
   "id": "9b7663df-a8ca-4dca-bbc9-edd4c887d371",
   "metadata": {},
   "outputs": [
    {
     "name": "stdout",
     "output_type": "stream",
     "text": [
      "Fitting 4 folds for each of 10 candidates, totalling 40 fits\n",
      "[17:51:48] WARNING: C:/Users/Administrator/workspace/xgboost-win64_release_1.6.0/src/learner.cc:627: \n",
      "Parameters: { \"n_estimator\" } might not be used.\n",
      "\n",
      "  This could be a false alarm, with some parameters getting used by language bindings but\n",
      "  then being mistakenly passed down to XGBoost core, or some parameter actually being used\n",
      "  but getting flagged wrongly here. Please open an issue if you find any such cases.\n",
      "\n",
      "\n"
     ]
    },
    {
     "data": {
      "text/plain": [
       "RandomizedSearchCV(cv=StratifiedKFold(n_splits=4, random_state=None, shuffle=False),\n",
       "                   estimator=Pipeline(steps=[('prep',\n",
       "                                              ColumnTransformer(transformers=[('numeric',\n",
       "                                                                               Pipeline(steps=[('imputer',\n",
       "                                                                                                SimpleImputer()),\n",
       "                                                                                               ('scaler',\n",
       "                                                                                                RobustScaler())]),\n",
       "                                                                               ['SeniorCitizen',\n",
       "                                                                                'tenure',\n",
       "                                                                                'MonthlyCharges',\n",
       "                                                                                'TotalCharges']),\n",
       "                                                                              ('categoric',\n",
       "                                                                               Pipeline(steps=[('imputer',\n",
       "                                                                                                SimpleImputer(strat...\n",
       "                                        'algo__gamma': array([1.e-03, 1.e-02, 1.e-01, 1.e+00, 1.e+01, 1.e+02]),\n",
       "                                        'algo__learning_rate': array([0.001, 0.01 , 0.1  , 1.   ]),\n",
       "                                        'algo__max_depth': array([1, 2, 3, 4, 5]),\n",
       "                                        'algo__n_estimator': array([100, 200, 300, 400]),\n",
       "                                        'algo__reg_alpha': array([1.e-03, 1.e-02, 1.e-01, 1.e+00, 1.e+01, 1.e+02, 1.e+03]),\n",
       "                                        'algo__reg_lambda': array([1.e-03, 1.e-02, 1.e-01, 1.e+00, 1.e+01, 1.e+02, 1.e+03]),\n",
       "                                        'algo__subsample': [0, 3, 0.5, 0.7,\n",
       "                                                            0.8]},\n",
       "                   verbose=3)"
      ]
     },
     "execution_count": 66,
     "metadata": {},
     "output_type": "execute_result"
    }
   ],
   "source": [
    "GS_XGB.fit(X_train, y_train)"
   ]
  },
  {
   "cell_type": "code",
   "execution_count": 67,
   "id": "a626c35d-4ac1-462d-ad0b-6ad60dac8457",
   "metadata": {},
   "outputs": [
    {
     "data": {
      "text/plain": [
       "{'algo__subsample': 0.8,\n",
       " 'algo__reg_lambda': 0.1,\n",
       " 'algo__reg_alpha': 0.01,\n",
       " 'algo__n_estimator': 300,\n",
       " 'algo__max_depth': 5,\n",
       " 'algo__learning_rate': 0.01,\n",
       " 'algo__gamma': 0.1,\n",
       " 'algo__colsample_bytree': 0.5}"
      ]
     },
     "execution_count": 67,
     "metadata": {},
     "output_type": "execute_result"
    }
   ],
   "source": [
    "GS_XGB.best_params_"
   ]
  },
  {
   "cell_type": "code",
   "execution_count": 68,
   "id": "3c98f745-3c4f-4fef-ba30-bbcf016d3aa2",
   "metadata": {},
   "outputs": [],
   "source": [
    "XGB_Tuned = GS_XGB.best_estimator_"
   ]
  },
  {
   "cell_type": "code",
   "execution_count": 69,
   "id": "60ff628b-f35c-430b-8ef9-dc999a0cf016",
   "metadata": {},
   "outputs": [],
   "source": [
    "y_XGB_Tuned = pipe_XGB.predict(X_test)"
   ]
  },
  {
   "cell_type": "markdown",
   "id": "a147e058-f0d8-41f8-8bfc-a2c0459810e0",
   "metadata": {},
   "source": [
    "### Classification Report XGBOOST"
   ]
  },
  {
   "cell_type": "code",
   "execution_count": 70,
   "id": "2b80dcca-9479-467e-8f90-4e42a81502ee",
   "metadata": {},
   "outputs": [
    {
     "name": "stdout",
     "output_type": "stream",
     "text": [
      "              precision    recall  f1-score   support\n",
      "\n",
      "           0       0.84      0.86      0.85      1033\n",
      "           1       0.59      0.53      0.56       374\n",
      "\n",
      "    accuracy                           0.78      1407\n",
      "   macro avg       0.71      0.70      0.70      1407\n",
      "weighted avg       0.77      0.78      0.77      1407\n",
      "\n"
     ]
    }
   ],
   "source": [
    "print(classification_report(y_test, y_XGB_Tuned))"
   ]
  },
  {
   "cell_type": "code",
   "execution_count": 71,
   "id": "002762b1-0798-4efc-9e6d-b2a3fdd24eb6",
   "metadata": {},
   "outputs": [
    {
     "data": {
      "text/plain": [
       "<sklearn.metrics._plot.confusion_matrix.ConfusionMatrixDisplay at 0x1c3826c4cd0>"
      ]
     },
     "execution_count": 71,
     "metadata": {},
     "output_type": "execute_result"
    },
    {
     "data": {
      "image/png": "[encoded data removed]",
      "text/plain": [
       "<Figure size 432x288 with 2 Axes>"
      ]
     },
     "metadata": {
      "needs_background": "light"
     },
     "output_type": "display_data"
    }
   ],
   "source": [
    "plot_confusion_matrix(XGB_Tuned, X_test, y_test, display_labels=['Not Churn', 'Churn'])"
   ]
  },
  {
   "cell_type": "markdown",
   "id": "c17c149b-3e51-4dba-8733-2bbb4b9b58ce",
   "metadata": {},
   "source": [
    "# LOGISTIC REGRESION"
   ]
  },
  {
   "cell_type": "markdown",
   "id": "46547a16-b8a7-4dc8-9375-58ef98c92119",
   "metadata": {},
   "source": [
    "Logistic Regression is a classification algorithm to find the relationship between discrete/continuous features (input) and the probability of certain discrete output results."
   ]
  },
  {
   "cell_type": "code",
   "execution_count": 72,
   "id": "68115b70-d605-4e1e-9e59-b4b61d958618",
   "metadata": {},
   "outputs": [],
   "source": [
    "num_columns = ['SeniorCitizen', 'tenure', 'MonthlyCharges','TotalCharges']\n",
    "cat_columns = ['gender', 'Partner', 'Dependents', 'PhoneService', 'MultipleLines', 'InternetService', 'OnlineSecurity',\n",
    "              'OnlineBackup', 'DeviceProtection', 'TechSupport', 'StreamingTV', 'Contract', 'PaperlessBilling', 'PaymentMethod']\n",
    " \n",
    "\n",
    "numeric_pipeline = Pipeline([\n",
    "    ('imputer', SimpleImputer(strategy='mean')),\n",
    "    ('scaler', RobustScaler())\n",
    "])\n",
    "\n",
    "\n",
    "categoric_pipeline = Pipeline([\n",
    "    ('imputer', SimpleImputer(strategy='most_frequent')),\n",
    "    ('encoder', OneHotEncoder(drop='first', handle_unknown = 'ignore'))\n",
    "])\n",
    "\n",
    "\n",
    "preprocessor = ColumnTransformer([\n",
    "    ('numeric', numeric_pipeline, num_columns),\n",
    "    ('categoric', categoric_pipeline, cat_columns),\n",
    "])\n",
    "\n",
    "\n",
    "pipe_LogReg = Pipeline([\n",
    "    ('prep', preprocessor),\n",
    "    ('algo', LogisticRegression())\n",
    "])"
   ]
  },
  {
   "cell_type": "code",
   "execution_count": 73,
   "id": "55aa5605-ef88-4f27-b412-84ea923a4796",
   "metadata": {},
   "outputs": [
    {
     "data": {
      "text/plain": [
       "Pipeline(steps=[('prep',\n",
       "                 ColumnTransformer(transformers=[('numeric',\n",
       "                                                  Pipeline(steps=[('imputer',\n",
       "                                                                   SimpleImputer()),\n",
       "                                                                  ('scaler',\n",
       "                                                                   RobustScaler())]),\n",
       "                                                  ['SeniorCitizen', 'tenure',\n",
       "                                                   'MonthlyCharges',\n",
       "                                                   'TotalCharges']),\n",
       "                                                 ('categoric',\n",
       "                                                  Pipeline(steps=[('imputer',\n",
       "                                                                   SimpleImputer(strategy='most_frequent')),\n",
       "                                                                  ('encoder',\n",
       "                                                                   OneHotEncoder(drop='first',\n",
       "                                                                                 handle_unknown='ignore'))]),\n",
       "                                                  ['gender', 'Partner',\n",
       "                                                   'Dependents', 'PhoneService',\n",
       "                                                   'MultipleLines',\n",
       "                                                   'InternetService',\n",
       "                                                   'OnlineSecurity',\n",
       "                                                   'OnlineBackup',\n",
       "                                                   'DeviceProtection',\n",
       "                                                   'TechSupport', 'StreamingTV',\n",
       "                                                   'Contract',\n",
       "                                                   'PaperlessBilling',\n",
       "                                                   'PaymentMethod'])])),\n",
       "                ('algo', LogisticRegression())])"
      ]
     },
     "execution_count": 73,
     "metadata": {},
     "output_type": "execute_result"
    }
   ],
   "source": [
    "pipe_LogReg.fit(X_train, y_train)"
   ]
  },
  {
   "cell_type": "markdown",
   "id": "5aa13612-40fb-48db-9c43-1d0100b6112c",
   "metadata": {},
   "source": [
    "### Predict Train (Logistic Regression)"
   ]
  },
  {
   "cell_type": "code",
   "execution_count": 74,
   "id": "da368802-f212-4d5a-bb36-64d6ff702895",
   "metadata": {},
   "outputs": [],
   "source": [
    "LogReg_train = pipe_LogReg.fit(X_train, y_train) "
   ]
  },
  {
   "cell_type": "code",
   "execution_count": 75,
   "id": "eea8d0c6-8bbf-4efe-9f11-78f6fc8c008f",
   "metadata": {},
   "outputs": [],
   "source": [
    "z = LogReg_train.predict(X_train)"
   ]
  },
  {
   "cell_type": "code",
   "execution_count": 76,
   "id": "644f42a3-80c5-4f73-88fd-6dfc8ea8a779",
   "metadata": {},
   "outputs": [
    {
     "name": "stdout",
     "output_type": "stream",
     "text": [
      "              precision    recall  f1-score   support\n",
      "\n",
      "           0       0.85      0.90      0.87      4130\n",
      "           1       0.66      0.55      0.60      1495\n",
      "\n",
      "    accuracy                           0.80      5625\n",
      "   macro avg       0.75      0.72      0.73      5625\n",
      "weighted avg       0.79      0.80      0.80      5625\n",
      "\n"
     ]
    }
   ],
   "source": [
    "print(classification_report(y_train, z))"
   ]
  },
  {
   "cell_type": "markdown",
   "id": "cf71465f-84ff-4c2e-954e-87bb657e4f08",
   "metadata": {},
   "source": [
    "### Predict Test (Logistic Regression)"
   ]
  },
  {
   "cell_type": "code",
   "execution_count": 77,
   "id": "0ca5acfd-5610-4776-a71d-b71bacb9777f",
   "metadata": {},
   "outputs": [],
   "source": [
    "y_LogReg = pipe_LogReg.predict(X_test)"
   ]
  },
  {
   "cell_type": "code",
   "execution_count": 78,
   "id": "19953436-a165-44a6-b3f6-3455f791e180",
   "metadata": {},
   "outputs": [
    {
     "name": "stdout",
     "output_type": "stream",
     "text": [
      "              precision    recall  f1-score   support\n",
      "\n",
      "           0       0.84      0.84      0.84      1033\n",
      "           1       0.55      0.55      0.55       374\n",
      "\n",
      "    accuracy                           0.76      1407\n",
      "   macro avg       0.70      0.70      0.70      1407\n",
      "weighted avg       0.76      0.76      0.76      1407\n",
      "\n"
     ]
    }
   ],
   "source": [
    "print(classification_report(y_test, y_knn))"
   ]
  },
  {
   "cell_type": "markdown",
   "id": "ebd01f4e-35de-4d5c-8671-75782629211b",
   "metadata": {
    "tags": []
   },
   "source": [
    "# Hyper Parameter Tuning Logistic Regression"
   ]
  },
  {
   "cell_type": "markdown",
   "id": "66be449e-97dc-467e-abcc-0cad1831d39b",
   "metadata": {},
   "source": [
    "Hyperparameter tuning is parameter value used to improve learning algorithm. Hyperparameter identify which tuple parameters will produce optimal model. To further improve our Logistic Regression model, Hyperparameter tuning will be performed. Hyper parameter tuning in Logistic Regression is used to determine the optimal data using the Logistic Regression model with the aim of minimizing the loss function.\n",
    "\n",
    "Source : https://tentangdata.wordpress.com/2017/09/21/definisi-optimisasi-machine-learning/, https://codingstudio.id/hyperparameter-tuning/"
   ]
  },
  {
   "cell_type": "code",
   "execution_count": 79,
   "id": "463d5e76-e102-4009-89cb-a177396c86fc",
   "metadata": {},
   "outputs": [],
   "source": [
    "param_LR = {\n",
    "    'algo__C' : np.logspace(-3, 3, 7),\n",
    "    'algo__penalty' : ['l1', 'l2', 'lasso']\n",
    "}\n",
    "skf = StratifiedKFold(n_splits=4)"
   ]
  },
  {
   "cell_type": "code",
   "execution_count": 80,
   "id": "285a4a05-f8aa-454e-89ce-b0cf59491dba",
   "metadata": {},
   "outputs": [],
   "source": [
    "GS_logreg = GridSearchCV(pipe_LogReg, param_LR, scoring='recall', cv = skf, n_jobs=-1, verbose = True)"
   ]
  },
  {
   "cell_type": "code",
   "execution_count": 81,
   "id": "8530af61-8273-4baf-9044-02769a936d30",
   "metadata": {},
   "outputs": [
    {
     "name": "stdout",
     "output_type": "stream",
     "text": [
      "Fitting 4 folds for each of 21 candidates, totalling 84 fits\n"
     ]
    },
    {
     "data": {
      "text/plain": [
       "GridSearchCV(cv=StratifiedKFold(n_splits=4, random_state=None, shuffle=False),\n",
       "             estimator=Pipeline(steps=[('prep',\n",
       "                                        ColumnTransformer(transformers=[('numeric',\n",
       "                                                                         Pipeline(steps=[('imputer',\n",
       "                                                                                          SimpleImputer()),\n",
       "                                                                                         ('scaler',\n",
       "                                                                                          RobustScaler())]),\n",
       "                                                                         ['SeniorCitizen',\n",
       "                                                                          'tenure',\n",
       "                                                                          'MonthlyCharges',\n",
       "                                                                          'TotalCharges']),\n",
       "                                                                        ('categoric',\n",
       "                                                                         Pipeline(steps=[('imputer',\n",
       "                                                                                          SimpleImputer(strategy='m...\n",
       "                                                                          'MultipleLines',\n",
       "                                                                          'InternetService',\n",
       "                                                                          'OnlineSecurity',\n",
       "                                                                          'OnlineBackup',\n",
       "                                                                          'DeviceProtection',\n",
       "                                                                          'TechSupport',\n",
       "                                                                          'StreamingTV',\n",
       "                                                                          'Contract',\n",
       "                                                                          'PaperlessBilling',\n",
       "                                                                          'PaymentMethod'])])),\n",
       "                                       ('algo', LogisticRegression())]),\n",
       "             n_jobs=-1,\n",
       "             param_grid={'algo__C': array([1.e-03, 1.e-02, 1.e-01, 1.e+00, 1.e+01, 1.e+02, 1.e+03]),\n",
       "                         'algo__penalty': ['l1', 'l2', 'lasso']},\n",
       "             scoring='recall', verbose=True)"
      ]
     },
     "execution_count": 81,
     "metadata": {},
     "output_type": "execute_result"
    }
   ],
   "source": [
    "GS_logreg.fit(X_train, y_train)"
   ]
  },
  {
   "cell_type": "code",
   "execution_count": 82,
   "id": "05c9facf-03ac-42b6-8abd-e055b6644a30",
   "metadata": {},
   "outputs": [
    {
     "data": {
      "text/plain": [
       "{'algo__C': 100.0, 'algo__penalty': 'l2'}"
      ]
     },
     "execution_count": 82,
     "metadata": {},
     "output_type": "execute_result"
    }
   ],
   "source": [
    "GS_logreg.best_params_"
   ]
  },
  {
   "cell_type": "code",
   "execution_count": 83,
   "id": "d936d3f5-c300-4fe0-852d-bb935c9a7066",
   "metadata": {},
   "outputs": [],
   "source": [
    "LR_Tuned = GS_logreg.best_estimator_"
   ]
  },
  {
   "cell_type": "markdown",
   "id": "860a0a35-083f-4f5f-9888-3235e6edd20b",
   "metadata": {},
   "source": [
    "### Classification Report Logistic Regression"
   ]
  },
  {
   "cell_type": "code",
   "execution_count": 84,
   "id": "3f2fddf7-a6a2-4c58-a97d-1c5b655d852c",
   "metadata": {},
   "outputs": [
    {
     "name": "stdout",
     "output_type": "stream",
     "text": [
      "              precision    recall  f1-score   support\n",
      "\n",
      "           0       0.85      0.88      0.87      1033\n",
      "           1       0.64      0.58      0.61       374\n",
      "\n",
      "    accuracy                           0.80      1407\n",
      "   macro avg       0.75      0.73      0.74      1407\n",
      "weighted avg       0.80      0.80      0.80      1407\n",
      "\n"
     ]
    }
   ],
   "source": [
    "print(classification_report(y_test, LR_Tuned.predict(X_test)))"
   ]
  },
  {
   "cell_type": "markdown",
   "id": "7e08e261-bb06-4424-99c5-f5324b761e3c",
   "metadata": {},
   "source": [
    "# Comparation Between Model"
   ]
  },
  {
   "cell_type": "code",
   "execution_count": 85,
   "id": "5af44724-0a38-4b27-9a14-8c8f901e73e5",
   "metadata": {},
   "outputs": [
    {
     "data": {
      "text/html": [
       "<div>\n",
       "<style scoped>\n",
       "    .dataframe tbody tr th:only-of-type {\n",
       "        vertical-align: middle;\n",
       "    }\n",
       "\n",
       "    .dataframe tbody tr th {\n",
       "        vertical-align: top;\n",
       "    }\n",
       "\n",
       "    .dataframe thead th {\n",
       "        text-align: right;\n",
       "    }\n",
       "</style>\n",
       "<table border=\"1\" class=\"dataframe\">\n",
       "  <thead>\n",
       "    <tr style=\"text-align: right;\">\n",
       "      <th></th>\n",
       "      <th>Recall</th>\n",
       "    </tr>\n",
       "  </thead>\n",
       "  <tbody>\n",
       "    <tr>\n",
       "      <th>Test KNN</th>\n",
       "      <td>0.606952</td>\n",
       "    </tr>\n",
       "    <tr>\n",
       "      <th>Test LogisticRegression</th>\n",
       "      <td>0.577540</td>\n",
       "    </tr>\n",
       "    <tr>\n",
       "      <th>Test XGB</th>\n",
       "      <td>0.532086</td>\n",
       "    </tr>\n",
       "    <tr>\n",
       "      <th>Test RF</th>\n",
       "      <td>0.502674</td>\n",
       "    </tr>\n",
       "  </tbody>\n",
       "</table>\n",
       "</div>"
      ],
      "text/plain": [
       "                           Recall\n",
       "Test KNN                 0.606952\n",
       "Test LogisticRegression  0.577540\n",
       "Test XGB                 0.532086\n",
       "Test RF                  0.502674"
      ]
     },
     "execution_count": 85,
     "metadata": {},
     "output_type": "execute_result"
    }
   ],
   "source": [
    "base_model= [KNN_Tuned, RF_Tuned, pipe_XGB, LR_Tuned]\n",
    "model = ['KNN', 'RF', 'XGB','LogisticRegression']\n",
    "data = {}\n",
    "\n",
    "def Eva_Matrix(Model, X, y_true):\n",
    "    y_pred = Model.predict(X)\n",
    "    Rec = recall_score(y_true, y_pred)\n",
    "    y_predict_proba = Model.predict_proba(X)[:,1]\n",
    "    return Rec\n",
    "\n",
    "for i in range(len(base_model)):\n",
    "    Rec_test = Eva_Matrix(base_model[i], X_test, y_test)\n",
    "    data[f'Test {model[i]}'] = Rec_test\n",
    "pd.DataFrame(data = data, index = [\"Recall\"]).T.sort_values('Recall', ascending=False)"
   ]
  },
  {
   "cell_type": "markdown",
   "id": "3dabb114-6aa9-4940-bd09-6bcea9bc68fe",
   "metadata": {},
   "source": [
    "### Selection Of The Best Model To Determine Recommendations\n",
    "\n",
    "We utilize 4 models (KNN , Random Forest, XGBOOST, Logistic Regression) for this Dataset, in order to know the best percentage value to determine the recommendation. In the other hand, those models are the model that are popular and powerful. In this classification report, we will focus on recall value and it's false negative result. Among the 4 models tuned, **KNN** obtained the best recall value (0.606952 = 0.61). From this model we could predict the customer's probability of churning as a recommendation for further targeted actions."
   ]
  },
  {
   "cell_type": "markdown",
   "id": "6ef906ed-8e7a-48db-bc27-ccb7c890727f",
   "metadata": {},
   "source": [
    "# Predict Probability"
   ]
  },
  {
   "cell_type": "code",
   "execution_count": 86,
   "id": "73816a8c-68cf-4bf4-8738-12be6d38b855",
   "metadata": {},
   "outputs": [
    {
     "data": {
      "text/html": [
       "<div>\n",
       "<style scoped>\n",
       "    .dataframe tbody tr th:only-of-type {\n",
       "        vertical-align: middle;\n",
       "    }\n",
       "\n",
       "    .dataframe tbody tr th {\n",
       "        vertical-align: top;\n",
       "    }\n",
       "\n",
       "    .dataframe thead th {\n",
       "        text-align: right;\n",
       "    }\n",
       "</style>\n",
       "<table border=\"1\" class=\"dataframe\">\n",
       "  <thead>\n",
       "    <tr style=\"text-align: right;\">\n",
       "      <th></th>\n",
       "      <th>gender</th>\n",
       "      <th>SeniorCitizen</th>\n",
       "      <th>Partner</th>\n",
       "      <th>Dependents</th>\n",
       "      <th>tenure</th>\n",
       "      <th>PhoneService</th>\n",
       "      <th>MultipleLines</th>\n",
       "      <th>InternetService</th>\n",
       "      <th>OnlineSecurity</th>\n",
       "      <th>OnlineBackup</th>\n",
       "      <th>DeviceProtection</th>\n",
       "      <th>TechSupport</th>\n",
       "      <th>StreamingTV</th>\n",
       "      <th>StreamingMovies</th>\n",
       "      <th>Contract</th>\n",
       "      <th>PaperlessBilling</th>\n",
       "      <th>PaymentMethod</th>\n",
       "      <th>MonthlyCharges</th>\n",
       "      <th>TotalCharges</th>\n",
       "    </tr>\n",
       "  </thead>\n",
       "  <tbody>\n",
       "    <tr>\n",
       "      <th>1413</th>\n",
       "      <td>Male</td>\n",
       "      <td>0</td>\n",
       "      <td>Yes</td>\n",
       "      <td>Yes</td>\n",
       "      <td>65</td>\n",
       "      <td>Yes</td>\n",
       "      <td>Yes</td>\n",
       "      <td>Fiber optic</td>\n",
       "      <td>Yes</td>\n",
       "      <td>Yes</td>\n",
       "      <td>Yes</td>\n",
       "      <td>Yes</td>\n",
       "      <td>No</td>\n",
       "      <td>No</td>\n",
       "      <td>Two year</td>\n",
       "      <td>No</td>\n",
       "      <td>Credit card (automatic)</td>\n",
       "      <td>94.55</td>\n",
       "      <td>6078.75</td>\n",
       "    </tr>\n",
       "    <tr>\n",
       "      <th>7003</th>\n",
       "      <td>Male</td>\n",
       "      <td>0</td>\n",
       "      <td>No</td>\n",
       "      <td>No</td>\n",
       "      <td>26</td>\n",
       "      <td>No</td>\n",
       "      <td>No phone service</td>\n",
       "      <td>DSL</td>\n",
       "      <td>No</td>\n",
       "      <td>No</td>\n",
       "      <td>Yes</td>\n",
       "      <td>Yes</td>\n",
       "      <td>No</td>\n",
       "      <td>No</td>\n",
       "      <td>Month-to-month</td>\n",
       "      <td>No</td>\n",
       "      <td>Electronic check</td>\n",
       "      <td>35.75</td>\n",
       "      <td>1022.50</td>\n",
       "    </tr>\n",
       "    <tr>\n",
       "      <th>3355</th>\n",
       "      <td>Female</td>\n",
       "      <td>0</td>\n",
       "      <td>Yes</td>\n",
       "      <td>No</td>\n",
       "      <td>68</td>\n",
       "      <td>Yes</td>\n",
       "      <td>Yes</td>\n",
       "      <td>Fiber optic</td>\n",
       "      <td>No</td>\n",
       "      <td>Yes</td>\n",
       "      <td>Yes</td>\n",
       "      <td>Yes</td>\n",
       "      <td>No</td>\n",
       "      <td>No</td>\n",
       "      <td>Two year</td>\n",
       "      <td>No</td>\n",
       "      <td>Credit card (automatic)</td>\n",
       "      <td>90.20</td>\n",
       "      <td>6297.65</td>\n",
       "    </tr>\n",
       "    <tr>\n",
       "      <th>4494</th>\n",
       "      <td>Male</td>\n",
       "      <td>0</td>\n",
       "      <td>No</td>\n",
       "      <td>No</td>\n",
       "      <td>3</td>\n",
       "      <td>Yes</td>\n",
       "      <td>No</td>\n",
       "      <td>Fiber optic</td>\n",
       "      <td>No</td>\n",
       "      <td>Yes</td>\n",
       "      <td>No</td>\n",
       "      <td>No</td>\n",
       "      <td>No</td>\n",
       "      <td>Yes</td>\n",
       "      <td>Month-to-month</td>\n",
       "      <td>No</td>\n",
       "      <td>Electronic check</td>\n",
       "      <td>84.30</td>\n",
       "      <td>235.05</td>\n",
       "    </tr>\n",
       "    <tr>\n",
       "      <th>3541</th>\n",
       "      <td>Female</td>\n",
       "      <td>0</td>\n",
       "      <td>Yes</td>\n",
       "      <td>No</td>\n",
       "      <td>49</td>\n",
       "      <td>No</td>\n",
       "      <td>No phone service</td>\n",
       "      <td>DSL</td>\n",
       "      <td>Yes</td>\n",
       "      <td>No</td>\n",
       "      <td>No</td>\n",
       "      <td>No</td>\n",
       "      <td>Yes</td>\n",
       "      <td>No</td>\n",
       "      <td>Month-to-month</td>\n",
       "      <td>No</td>\n",
       "      <td>Bank transfer (automatic)</td>\n",
       "      <td>40.65</td>\n",
       "      <td>2070.75</td>\n",
       "    </tr>\n",
       "  </tbody>\n",
       "</table>\n",
       "</div>"
      ],
      "text/plain": [
       "      gender  SeniorCitizen Partner Dependents  tenure PhoneService  \\\n",
       "1413    Male              0     Yes        Yes      65          Yes   \n",
       "7003    Male              0      No         No      26           No   \n",
       "3355  Female              0     Yes         No      68          Yes   \n",
       "4494    Male              0      No         No       3          Yes   \n",
       "3541  Female              0     Yes         No      49           No   \n",
       "\n",
       "         MultipleLines InternetService OnlineSecurity OnlineBackup  \\\n",
       "1413               Yes     Fiber optic            Yes          Yes   \n",
       "7003  No phone service             DSL             No           No   \n",
       "3355               Yes     Fiber optic             No          Yes   \n",
       "4494                No     Fiber optic             No          Yes   \n",
       "3541  No phone service             DSL            Yes           No   \n",
       "\n",
       "     DeviceProtection TechSupport StreamingTV StreamingMovies        Contract  \\\n",
       "1413              Yes         Yes          No              No        Two year   \n",
       "7003              Yes         Yes          No              No  Month-to-month   \n",
       "3355              Yes         Yes          No              No        Two year   \n",
       "4494               No          No          No             Yes  Month-to-month   \n",
       "3541               No          No         Yes              No  Month-to-month   \n",
       "\n",
       "     PaperlessBilling              PaymentMethod  MonthlyCharges  TotalCharges  \n",
       "1413               No    Credit card (automatic)           94.55       6078.75  \n",
       "7003               No           Electronic check           35.75       1022.50  \n",
       "3355               No    Credit card (automatic)           90.20       6297.65  \n",
       "4494               No           Electronic check           84.30        235.05  \n",
       "3541               No  Bank transfer (automatic)           40.65       2070.75  "
      ]
     },
     "execution_count": 86,
     "metadata": {},
     "output_type": "execute_result"
    }
   ],
   "source": [
    "X_train.head()"
   ]
  },
  {
   "cell_type": "code",
   "execution_count": 87,
   "id": "6f7f4c1f-a6de-420a-9cfd-9646aa465a72",
   "metadata": {},
   "outputs": [],
   "source": [
    "data_telco = {\n",
    "    \"gender\" : \"Female\",\n",
    "    \"SeniorCitizen\" : 0,\n",
    "    \"Partner\" : \"Yes\",\n",
    "    \"Dependents\" : \"Yes\",\n",
    "    \"tenure\" : 3,\n",
    "    \"PhoneService\" : \"Yes\",\n",
    "    \"MultipleLines\" : \"Yes\",\n",
    "    \"InternetService\" : \"Fiber optic\",\n",
    "    \"OnlineSecurity\" : \"Yes\",\n",
    "    \"OnlineBackup\" : \"Yes\",\n",
    "    \"DeviceProtection\" : \"Yes\",\n",
    "    \"TechSupport\" : \"Yes\",\n",
    "    \"StreamingTV\" : \"No\",\n",
    "    \"StreamingMovies\" : \"No\",\n",
    "    \"Contract\" : \"Two year\",\n",
    "    \"PaperlessBilling\" : \"No\",\n",
    "    \"PaymentMethod\" : \"Credit card (automatic)\",\n",
    "    \"MonthlyCharges\" : 94.55,\n",
    "    \"TotalCharges\" : 6078.75\n",
    "}"
   ]
  },
  {
   "cell_type": "code",
   "execution_count": 88,
   "id": "b82fb14b-880e-468b-838e-dc86b9b72a5f",
   "metadata": {},
   "outputs": [],
   "source": [
    "telco = pd.DataFrame(data_telco, index=[1])"
   ]
  },
  {
   "cell_type": "code",
   "execution_count": 89,
   "id": "47c6d400-2bba-4245-8801-593731640285",
   "metadata": {},
   "outputs": [
    {
     "data": {
      "text/plain": [
       "array([0], dtype=int64)"
      ]
     },
     "execution_count": 89,
     "metadata": {},
     "output_type": "execute_result"
    }
   ],
   "source": [
    "GSS_KNN.predict(telco)"
   ]
  },
  {
   "cell_type": "code",
   "execution_count": 93,
   "id": "af4bbb35-1750-4d3b-abfe-11a640c17560",
   "metadata": {},
   "outputs": [
    {
     "data": {
      "text/plain": [
       "0.04225352112676056"
      ]
     },
     "execution_count": 93,
     "metadata": {},
     "output_type": "execute_result"
    }
   ],
   "source": [
    "hasil = GSS_KNN.predict_proba(telco)[0][1]\n",
    "hasil"
   ]
  },
  {
   "cell_type": "code",
   "execution_count": 94,
   "id": "bc85fe8d-aa3b-4a74-8472-7182b741748a",
   "metadata": {},
   "outputs": [
    {
     "name": "stdout",
     "output_type": "stream",
     "text": [
      "no action needed\n"
     ]
    }
   ],
   "source": [
    "if hasil >= 0.7:\n",
    "    print('Full retention cost: $80')\n",
    "if hasil < 0.7 and hasil >= 0.3:\n",
    "    print('half retention cost: $40')\n",
    "else:\n",
    "    print('no action needed')"
   ]
  },
  {
   "cell_type": "markdown",
   "id": "feba3526-71df-4875-96f9-6da274b8f6b7",
   "metadata": {},
   "source": [
    "# CONCLUSION"
   ]
  },
  {
   "cell_type": "markdown",
   "id": "4ead4bdb-7949-462d-8fbc-2b61530112b1",
   "metadata": {},
   "source": [
    "1. The target in this analysis is recall yes because it focuses on False Negative (Actual Churn With No Predictions)\n",
    "2. In telco churn data analysis, the *KNN* model is the best model with a hyperparameter tuning process with a recall positif target of 0.61\n",
    "3. When using machine learning, we can find out the probability that customers will churn. which before using machine learning we give promos to all customers with the aim of maintaining potential revenue, and after using machine learning we only give promos to customers who will be predicted to churn"
   ]
  },
  {
   "cell_type": "markdown",
   "id": "593ee20b-b6b4-4562-af33-a6b1b83a85a0",
   "metadata": {
    "tags": []
   },
   "source": [
    "# RECOMENDATION"
   ]
  },
  {
   "cell_type": "markdown",
   "id": "e122069f-1496-4cca-94f7-f710b890ac52",
   "metadata": {},
   "source": [
    "We can give offers to some people who fall into the positive recall group or predict that the actual churn will not churn, which before using machine learning we give promos to everyone, while after using the promo, we can find out which customers can be offered an offer by The goal is to reduce the churn rate for customers. The offer is given when we know the probability of customer churn is:\n",
    "\n",
    "- if the prediction is below 0.3 then no promotion will be given\n",
    "- if the prediction is above 0.3 to 0.7, the promotion will be given \"Half Retention Cost = 40$\"\n",
    "\n",
    "- If the prediction is above 0.7, the promotion will be given \"Full Retention Cost = 80$\""
   ]
  }
 ],
 "metadata": {
  "kernelspec": {
   "display_name": "Python 3 (ipykernel)",
   "language": "python",
   "name": "python3"
  },
  "language_info": {
   "codemirror_mode": {
    "name": "ipython",
    "version": 3
   },
   "file_extension": ".py",
   "mimetype": "text/x-python",
   "name": "python",
   "nbconvert_exporter": "python",
   "pygments_lexer": "ipython3",
   "version": "3.9.7"
  }
 },
 "nbformat": 4,
 "nbformat_minor": 5
}
